{
 "cells": [
  {
   "cell_type": "code",
   "execution_count": 1,
   "id": "6ba31a7b-6c88-4709-956f-4ada01a0c895",
   "metadata": {},
   "outputs": [],
   "source": [
    "#n_components降维后所需的维度:人为确定的参数\n",
    "import matplotlib.pyplot as plt\n",
    "from sklearn.datasets import load_iris\n",
    "from sklearn.decomposition import PCA\n",
    "import pandas as pd\n",
    "iris = load_iris()\n",
    "y = iris.target\n",
    "x = iris.data"
   ]
  },
  {
   "cell_type": "code",
   "execution_count": 2,
   "id": "a0c8a18e-bf13-4b11-9774-c803bbfcb3e8",
   "metadata": {},
   "outputs": [
    {
     "data": {
      "text/plain": [
       "(150, 4)"
      ]
     },
     "execution_count": 2,
     "metadata": {},
     "output_type": "execute_result"
    }
   ],
   "source": [
    "x.shape"
   ]
  },
  {
   "cell_type": "code",
   "execution_count": 3,
   "id": "8fb25659-b901-4c7b-aa3b-d35c5e0762f2",
   "metadata": {
    "tags": []
   },
   "outputs": [
    {
     "data": {
      "text/html": [
       "<div>\n",
       "<style scoped>\n",
       "    .dataframe tbody tr th:only-of-type {\n",
       "        vertical-align: middle;\n",
       "    }\n",
       "\n",
       "    .dataframe tbody tr th {\n",
       "        vertical-align: top;\n",
       "    }\n",
       "\n",
       "    .dataframe thead th {\n",
       "        text-align: right;\n",
       "    }\n",
       "</style>\n",
       "<table border=\"1\" class=\"dataframe\">\n",
       "  <thead>\n",
       "    <tr style=\"text-align: right;\">\n",
       "      <th></th>\n",
       "      <th>0</th>\n",
       "      <th>1</th>\n",
       "      <th>2</th>\n",
       "      <th>3</th>\n",
       "    </tr>\n",
       "  </thead>\n",
       "  <tbody>\n",
       "    <tr>\n",
       "      <th>0</th>\n",
       "      <td>5.1</td>\n",
       "      <td>3.5</td>\n",
       "      <td>1.4</td>\n",
       "      <td>0.2</td>\n",
       "    </tr>\n",
       "    <tr>\n",
       "      <th>1</th>\n",
       "      <td>4.9</td>\n",
       "      <td>3.0</td>\n",
       "      <td>1.4</td>\n",
       "      <td>0.2</td>\n",
       "    </tr>\n",
       "    <tr>\n",
       "      <th>2</th>\n",
       "      <td>4.7</td>\n",
       "      <td>3.2</td>\n",
       "      <td>1.3</td>\n",
       "      <td>0.2</td>\n",
       "    </tr>\n",
       "    <tr>\n",
       "      <th>3</th>\n",
       "      <td>4.6</td>\n",
       "      <td>3.1</td>\n",
       "      <td>1.5</td>\n",
       "      <td>0.2</td>\n",
       "    </tr>\n",
       "    <tr>\n",
       "      <th>4</th>\n",
       "      <td>5.0</td>\n",
       "      <td>3.6</td>\n",
       "      <td>1.4</td>\n",
       "      <td>0.2</td>\n",
       "    </tr>\n",
       "    <tr>\n",
       "      <th>...</th>\n",
       "      <td>...</td>\n",
       "      <td>...</td>\n",
       "      <td>...</td>\n",
       "      <td>...</td>\n",
       "    </tr>\n",
       "    <tr>\n",
       "      <th>145</th>\n",
       "      <td>6.7</td>\n",
       "      <td>3.0</td>\n",
       "      <td>5.2</td>\n",
       "      <td>2.3</td>\n",
       "    </tr>\n",
       "    <tr>\n",
       "      <th>146</th>\n",
       "      <td>6.3</td>\n",
       "      <td>2.5</td>\n",
       "      <td>5.0</td>\n",
       "      <td>1.9</td>\n",
       "    </tr>\n",
       "    <tr>\n",
       "      <th>147</th>\n",
       "      <td>6.5</td>\n",
       "      <td>3.0</td>\n",
       "      <td>5.2</td>\n",
       "      <td>2.0</td>\n",
       "    </tr>\n",
       "    <tr>\n",
       "      <th>148</th>\n",
       "      <td>6.2</td>\n",
       "      <td>3.4</td>\n",
       "      <td>5.4</td>\n",
       "      <td>2.3</td>\n",
       "    </tr>\n",
       "    <tr>\n",
       "      <th>149</th>\n",
       "      <td>5.9</td>\n",
       "      <td>3.0</td>\n",
       "      <td>5.1</td>\n",
       "      <td>1.8</td>\n",
       "    </tr>\n",
       "  </tbody>\n",
       "</table>\n",
       "<p>150 rows × 4 columns</p>\n",
       "</div>"
      ],
      "text/plain": [
       "       0    1    2    3\n",
       "0    5.1  3.5  1.4  0.2\n",
       "1    4.9  3.0  1.4  0.2\n",
       "2    4.7  3.2  1.3  0.2\n",
       "3    4.6  3.1  1.5  0.2\n",
       "4    5.0  3.6  1.4  0.2\n",
       "..   ...  ...  ...  ...\n",
       "145  6.7  3.0  5.2  2.3\n",
       "146  6.3  2.5  5.0  1.9\n",
       "147  6.5  3.0  5.2  2.0\n",
       "148  6.2  3.4  5.4  2.3\n",
       "149  5.9  3.0  5.1  1.8\n",
       "\n",
       "[150 rows x 4 columns]"
      ]
     },
     "execution_count": 3,
     "metadata": {},
     "output_type": "execute_result"
    }
   ],
   "source": [
    "pd.DataFrame(x)"
   ]
  },
  {
   "cell_type": "code",
   "execution_count": 4,
   "id": "7d55bc51-c5b8-4a02-b2ca-cc4a08408035",
   "metadata": {
    "collapsed": true,
    "jupyter": {
     "outputs_hidden": true
    },
    "tags": []
   },
   "outputs": [
    {
     "data": {
      "text/plain": [
       "array([[-2.68412563,  0.31939725],\n",
       "       [-2.71414169, -0.17700123],\n",
       "       [-2.88899057, -0.14494943],\n",
       "       [-2.74534286, -0.31829898],\n",
       "       [-2.72871654,  0.32675451],\n",
       "       [-2.28085963,  0.74133045],\n",
       "       [-2.82053775, -0.08946138],\n",
       "       [-2.62614497,  0.16338496],\n",
       "       [-2.88638273, -0.57831175],\n",
       "       [-2.6727558 , -0.11377425],\n",
       "       [-2.50694709,  0.6450689 ],\n",
       "       [-2.61275523,  0.01472994],\n",
       "       [-2.78610927, -0.235112  ],\n",
       "       [-3.22380374, -0.51139459],\n",
       "       [-2.64475039,  1.17876464],\n",
       "       [-2.38603903,  1.33806233],\n",
       "       [-2.62352788,  0.81067951],\n",
       "       [-2.64829671,  0.31184914],\n",
       "       [-2.19982032,  0.87283904],\n",
       "       [-2.5879864 ,  0.51356031],\n",
       "       [-2.31025622,  0.39134594],\n",
       "       [-2.54370523,  0.43299606],\n",
       "       [-3.21593942,  0.13346807],\n",
       "       [-2.30273318,  0.09870885],\n",
       "       [-2.35575405, -0.03728186],\n",
       "       [-2.50666891, -0.14601688],\n",
       "       [-2.46882007,  0.13095149],\n",
       "       [-2.56231991,  0.36771886],\n",
       "       [-2.63953472,  0.31203998],\n",
       "       [-2.63198939, -0.19696122],\n",
       "       [-2.58739848, -0.20431849],\n",
       "       [-2.4099325 ,  0.41092426],\n",
       "       [-2.64886233,  0.81336382],\n",
       "       [-2.59873675,  1.09314576],\n",
       "       [-2.63692688, -0.12132235],\n",
       "       [-2.86624165,  0.06936447],\n",
       "       [-2.62523805,  0.59937002],\n",
       "       [-2.80068412,  0.26864374],\n",
       "       [-2.98050204, -0.48795834],\n",
       "       [-2.59000631,  0.22904384],\n",
       "       [-2.77010243,  0.26352753],\n",
       "       [-2.84936871, -0.94096057],\n",
       "       [-2.99740655, -0.34192606],\n",
       "       [-2.40561449,  0.18887143],\n",
       "       [-2.20948924,  0.43666314],\n",
       "       [-2.71445143, -0.2502082 ],\n",
       "       [-2.53814826,  0.50377114],\n",
       "       [-2.83946217, -0.22794557],\n",
       "       [-2.54308575,  0.57941002],\n",
       "       [-2.70335978,  0.10770608],\n",
       "       [ 1.28482569,  0.68516047],\n",
       "       [ 0.93248853,  0.31833364],\n",
       "       [ 1.46430232,  0.50426282],\n",
       "       [ 0.18331772, -0.82795901],\n",
       "       [ 1.08810326,  0.07459068],\n",
       "       [ 0.64166908, -0.41824687],\n",
       "       [ 1.09506066,  0.28346827],\n",
       "       [-0.74912267, -1.00489096],\n",
       "       [ 1.04413183,  0.2283619 ],\n",
       "       [-0.0087454 , -0.72308191],\n",
       "       [-0.50784088, -1.26597119],\n",
       "       [ 0.51169856, -0.10398124],\n",
       "       [ 0.26497651, -0.55003646],\n",
       "       [ 0.98493451, -0.12481785],\n",
       "       [-0.17392537, -0.25485421],\n",
       "       [ 0.92786078,  0.46717949],\n",
       "       [ 0.66028376, -0.35296967],\n",
       "       [ 0.23610499, -0.33361077],\n",
       "       [ 0.94473373, -0.54314555],\n",
       "       [ 0.04522698, -0.58383438],\n",
       "       [ 1.11628318, -0.08461685],\n",
       "       [ 0.35788842, -0.06892503],\n",
       "       [ 1.29818388, -0.32778731],\n",
       "       [ 0.92172892, -0.18273779],\n",
       "       [ 0.71485333,  0.14905594],\n",
       "       [ 0.90017437,  0.32850447],\n",
       "       [ 1.33202444,  0.24444088],\n",
       "       [ 1.55780216,  0.26749545],\n",
       "       [ 0.81329065, -0.1633503 ],\n",
       "       [-0.30558378, -0.36826219],\n",
       "       [-0.06812649, -0.70517213],\n",
       "       [-0.18962247, -0.68028676],\n",
       "       [ 0.13642871, -0.31403244],\n",
       "       [ 1.38002644, -0.42095429],\n",
       "       [ 0.58800644, -0.48428742],\n",
       "       [ 0.80685831,  0.19418231],\n",
       "       [ 1.22069088,  0.40761959],\n",
       "       [ 0.81509524, -0.37203706],\n",
       "       [ 0.24595768, -0.2685244 ],\n",
       "       [ 0.16641322, -0.68192672],\n",
       "       [ 0.46480029, -0.67071154],\n",
       "       [ 0.8908152 , -0.03446444],\n",
       "       [ 0.23054802, -0.40438585],\n",
       "       [-0.70453176, -1.01224823],\n",
       "       [ 0.35698149, -0.50491009],\n",
       "       [ 0.33193448, -0.21265468],\n",
       "       [ 0.37621565, -0.29321893],\n",
       "       [ 0.64257601,  0.01773819],\n",
       "       [-0.90646986, -0.75609337],\n",
       "       [ 0.29900084, -0.34889781],\n",
       "       [ 2.53119273, -0.00984911],\n",
       "       [ 1.41523588, -0.57491635],\n",
       "       [ 2.61667602,  0.34390315],\n",
       "       [ 1.97153105, -0.1797279 ],\n",
       "       [ 2.35000592, -0.04026095],\n",
       "       [ 3.39703874,  0.55083667],\n",
       "       [ 0.52123224, -1.19275873],\n",
       "       [ 2.93258707,  0.3555    ],\n",
       "       [ 2.32122882, -0.2438315 ],\n",
       "       [ 2.91675097,  0.78279195],\n",
       "       [ 1.66177415,  0.24222841],\n",
       "       [ 1.80340195, -0.21563762],\n",
       "       [ 2.1655918 ,  0.21627559],\n",
       "       [ 1.34616358, -0.77681835],\n",
       "       [ 1.58592822, -0.53964071],\n",
       "       [ 1.90445637,  0.11925069],\n",
       "       [ 1.94968906,  0.04194326],\n",
       "       [ 3.48705536,  1.17573933],\n",
       "       [ 3.79564542,  0.25732297],\n",
       "       [ 1.30079171, -0.76114964],\n",
       "       [ 2.42781791,  0.37819601],\n",
       "       [ 1.19900111, -0.60609153],\n",
       "       [ 3.49992004,  0.4606741 ],\n",
       "       [ 1.38876613, -0.20439933],\n",
       "       [ 2.2754305 ,  0.33499061],\n",
       "       [ 2.61409047,  0.56090136],\n",
       "       [ 1.25850816, -0.17970479],\n",
       "       [ 1.29113206, -0.11666865],\n",
       "       [ 2.12360872, -0.20972948],\n",
       "       [ 2.38800302,  0.4646398 ],\n",
       "       [ 2.84167278,  0.37526917],\n",
       "       [ 3.23067366,  1.37416509],\n",
       "       [ 2.15943764, -0.21727758],\n",
       "       [ 1.44416124, -0.14341341],\n",
       "       [ 1.78129481, -0.49990168],\n",
       "       [ 3.07649993,  0.68808568],\n",
       "       [ 2.14424331,  0.1400642 ],\n",
       "       [ 1.90509815,  0.04930053],\n",
       "       [ 1.16932634, -0.16499026],\n",
       "       [ 2.10761114,  0.37228787],\n",
       "       [ 2.31415471,  0.18365128],\n",
       "       [ 1.9222678 ,  0.40920347],\n",
       "       [ 1.41523588, -0.57491635],\n",
       "       [ 2.56301338,  0.2778626 ],\n",
       "       [ 2.41874618,  0.3047982 ],\n",
       "       [ 1.94410979,  0.1875323 ],\n",
       "       [ 1.52716661, -0.37531698],\n",
       "       [ 1.76434572,  0.07885885],\n",
       "       [ 1.90094161,  0.11662796],\n",
       "       [ 1.39018886, -0.28266094]])"
      ]
     },
     "execution_count": 4,
     "metadata": {},
     "output_type": "execute_result"
    }
   ],
   "source": [
    "##调用pca\n",
    "pca = PCA(n_components = 2)\n",
    "pca = pca.fit (x)\n",
    "X_dr = pca.transform(x)\n",
    "X_dr\n",
    "#X_dr = PCA(n_components = 2).fit_transform(x)"
   ]
  },
  {
   "cell_type": "code",
   "execution_count": 5,
   "id": "1c993959-6f94-4fb8-8a85-dcddcb98c0ad",
   "metadata": {},
   "outputs": [
    {
     "data": {
      "text/plain": [
       "array([ 0.68516047,  0.31833364,  0.50426282, -0.82795901,  0.07459068,\n",
       "       -0.41824687,  0.28346827, -1.00489096,  0.2283619 , -0.72308191,\n",
       "       -1.26597119, -0.10398124, -0.55003646, -0.12481785, -0.25485421,\n",
       "        0.46717949, -0.35296967, -0.33361077, -0.54314555, -0.58383438,\n",
       "       -0.08461685, -0.06892503, -0.32778731, -0.18273779,  0.14905594,\n",
       "        0.32850447,  0.24444088,  0.26749545, -0.1633503 , -0.36826219,\n",
       "       -0.70517213, -0.68028676, -0.31403244, -0.42095429, -0.48428742,\n",
       "        0.19418231,  0.40761959, -0.37203706, -0.2685244 , -0.68192672,\n",
       "       -0.67071154, -0.03446444, -0.40438585, -1.01224823, -0.50491009,\n",
       "       -0.21265468, -0.29321893,  0.01773819, -0.75609337, -0.34889781])"
      ]
     },
     "execution_count": 5,
     "metadata": {},
     "output_type": "execute_result"
    }
   ],
   "source": [
    "##在二维坐标系中对应的两个坐标(pca1,pca2)作为特征画出鸢尾花的数据\n",
    "X_dr[y == 0, 0] #第一种花的pca1\n",
    "X_dr[y == 0, 1] #第一种花的pca2\n",
    "X_dr[y == 1, 1] #第二种花的pca2"
   ]
  },
  {
   "cell_type": "code",
   "execution_count": 6,
   "id": "597805b7-90ea-47c2-acf2-af06b6a7dc1c",
   "metadata": {},
   "outputs": [
    {
     "data": {
      "image/png": "[encoded data removed]",
      "text/plain": [
       "<Figure size 640x480 with 1 Axes>"
      ]
     },
     "metadata": {},
     "output_type": "display_data"
    }
   ],
   "source": [
    "plt.figure()\n",
    "plt.scatter(X_dr[y == 0, 0],X_dr[y == 0, 1],c = \"red\", label=iris.target_names[0])\n",
    "plt.scatter(X_dr[y == 1, 0],X_dr[y == 1, 1],c = \"black\", label=iris.target_names[1])\n",
    "plt.scatter(X_dr[y == 2, 0],X_dr[y == 2, 1],c = \"orange\", label=iris.target_names[2])\n",
    "plt.legend()\n",
    "plt.title('PCA of IRIS dataset')\n",
    "plt.show()"
   ]
  },
  {
   "cell_type": "code",
   "execution_count": 7,
   "id": "c3bfa6bb-2775-4e46-8989-e4fa1bfba531",
   "metadata": {},
   "outputs": [
    {
     "data": {
      "image/png": "[encoded data removed]",
      "text/plain": [
       "<Figure size 640x480 with 1 Axes>"
      ]
     },
     "metadata": {},
     "output_type": "display_data"
    }
   ],
   "source": [
    "#for loop平替\n",
    "colors = ['red','black','orange']\n",
    "plt.figure()\n",
    "for i in [0,1,2]:\n",
    "    plt.scatter(X_dr[y == i, 0],\n",
    "                X_dr[y == i, 1],\n",
    "                alpha = .5,\n",
    "                c = colors[i],\n",
    "                label = iris.target_names[i]\n",
    "               )\n",
    "\n",
    "plt.legend()\n",
    "plt.title('PCA of IRIS dataset')\n",
    "plt.show()"
   ]
  },
  {
   "cell_type": "code",
   "execution_count": 8,
   "id": "3fbd49f7-6c6d-4b80-a50d-d90065aceb57",
   "metadata": {},
   "outputs": [
    {
     "data": {
      "text/plain": [
       "array([4.22824171, 0.24267075])"
      ]
     },
     "execution_count": 8,
     "metadata": {},
     "output_type": "execute_result"
    }
   ],
   "source": [
    "#降维后每个新特征向量的信息量(可解释方差)大小\n",
    "pca.explained_variance_"
   ]
  },
  {
   "cell_type": "code",
   "execution_count": 9,
   "id": "5c71ef61-0804-4226-99ec-42735eec2a8c",
   "metadata": {},
   "outputs": [
    {
     "data": {
      "text/plain": [
       "array([0.92461872, 0.05306648])"
      ]
     },
     "execution_count": 9,
     "metadata": {},
     "output_type": "execute_result"
    }
   ],
   "source": [
    "#降维后每个新特征向量的信息量(可解释方差)贡献率\n",
    "pca.explained_variance_ratio_"
   ]
  },
  {
   "cell_type": "code",
   "execution_count": 10,
   "id": "ec43a807-27d2-4162-a611-eb66b5ca6ec1",
   "metadata": {},
   "outputs": [
    {
     "data": {
      "text/plain": [
       "0.9776852063187949"
      ]
     },
     "execution_count": 10,
     "metadata": {},
     "output_type": "execute_result"
    }
   ],
   "source": [
    "#降维后所有新特征向量的信息量之和\n",
    "pca.explained_variance_ratio_.sum()"
   ]
  },
  {
   "cell_type": "code",
   "execution_count": 11,
   "id": "3b14d29d-cf11-42db-8f21-c83347c3d937",
   "metadata": {},
   "outputs": [
    {
     "data": {
      "image/png": "[encoded data removed]",
      "text/plain": [
       "<Figure size 640x480 with 1 Axes>"
      ]
     },
     "metadata": {},
     "output_type": "display_data"
    }
   ],
   "source": [
    "#调参:选择最好的n_components\n",
    "import numpy as np\n",
    "pca_line = PCA().fit(x)\n",
    "plt.plot ([1,2,3,4],np.cumsum(pca_line.explained_variance_ratio_))\n",
    "plt.xticks([1,2,3,4])\n",
    "plt.xlabel(\"number of components after dimension reduction\")\n",
    "plt.ylabel(\"cumualtive explained variance\")\n",
    "plt.show()"
   ]
  },
  {
   "cell_type": "code",
   "execution_count": 12,
   "id": "b16d17f2-896a-4298-bc56-5c2c38ade629",
   "metadata": {},
   "outputs": [
    {
     "name": "stdout",
     "output_type": "stream",
     "text": [
      "(150, 3)\n"
     ]
    }
   ],
   "source": [
    "#最大似然估计自选超参数(n_components)\n",
    "pca_mle = PCA(n_components = \"mle\")\n",
    "pca_mle = pca_mle.fit(x)\n",
    "x_mle = pca_mle.transform(x)\n",
    "print(x_mle.shape) #3列特征为最好的取值"
   ]
  },
  {
   "cell_type": "code",
   "execution_count": 13,
   "id": "4829dc93-70ca-40c7-a2be-4f5befce4d68",
   "metadata": {},
   "outputs": [
    {
     "data": {
      "text/plain": [
       "0.9776852063187949"
      ]
     },
     "execution_count": 13,
     "metadata": {},
     "output_type": "execute_result"
    }
   ],
   "source": [
    "#用最终保留的信息量选择超参数(n_components)\n",
    "pca_info = PCA(n_components = 0.97, svd_solver = \"full\")\n",
    "pca_info = pca_info.fit(x)\n",
    "X_info = pca_info.transform(x)\n",
    "\n",
    "pca_info.explained_variance_ratio_.sum()"
   ]
  },
  {
   "cell_type": "code",
   "execution_count": 19,
   "id": "9d934279-00db-47b8-8fc4-1f4ff0308d89",
   "metadata": {},
   "outputs": [
    {
     "data": {
      "text/plain": [
       "array([[ 0.36138659, -0.08452251,  0.85667061,  0.3582892 ],\n",
       "       [ 0.65658877,  0.73016143, -0.17337266, -0.07548102]])"
      ]
     },
     "execution_count": 19,
     "metadata": {},
     "output_type": "execute_result"
    }
   ],
   "source": [
    "#输出SVD计算过程的矩阵V(k,n)\n",
    "PCA(n_components = 2).fit(x).components_"
   ]
  },
  {
   "cell_type": "code",
   "execution_count": 20,
   "id": "f068f7fe-97a2-4c40-ac63-0a459497fbf1",
   "metadata": {},
   "outputs": [
    {
     "data": {
      "text/plain": [
       "(2, 4)"
      ]
     },
     "execution_count": 20,
     "metadata": {},
     "output_type": "execute_result"
    }
   ],
   "source": [
    "PCA(n_components = 2).fit(x).components_.shape #k=2,n=4"
   ]
  },
  {
   "cell_type": "code",
   "execution_count": 33,
   "id": "c59f60ab-2c62-4ade-bce4-93a90ac2fd8d",
   "metadata": {},
   "outputs": [],
   "source": [
    "########################人脸识别###############################\n",
    "from sklearn.datasets import fetch_lfw_people\n",
    "from sklearn.decomposition import PCA\n",
    "import matplotlib.pyplot as plt\n",
    "import numpy as np"
   ]
  },
  {
   "cell_type": "code",
   "execution_count": 25,
   "id": "8d0fb4fa-1a02-4f46-bb49-8132ad2685fd",
   "metadata": {
    "collapsed": true,
    "jupyter": {
     "outputs_hidden": true
    },
    "tags": []
   },
   "outputs": [
    {
     "data": {
      "text/plain": [
       "{'data': array([[0.53333336, 0.52418303, 0.49673203, ..., 0.00653595, 0.00653595,\n",
       "         0.00130719],\n",
       "        [0.28627452, 0.20784314, 0.2535948 , ..., 0.96993464, 0.95032686,\n",
       "         0.9346406 ],\n",
       "        [0.31633988, 0.3895425 , 0.275817  , ..., 0.4261438 , 0.7895425 ,\n",
       "         0.9555555 ],\n",
       "        ...,\n",
       "        [0.11633987, 0.11111111, 0.10196079, ..., 0.5660131 , 0.579085  ,\n",
       "         0.5542484 ],\n",
       "        [0.19346406, 0.21045752, 0.29150328, ..., 0.6875817 , 0.6575164 ,\n",
       "         0.5908497 ],\n",
       "        [0.12418301, 0.09673203, 0.10849673, ..., 0.12941177, 0.16209151,\n",
       "         0.29150328]], dtype=float32),\n",
       " 'images': array([[[0.53333336, 0.52418303, 0.49673203, ..., 0.2653595 ,\n",
       "          0.2653595 , 0.26013073],\n",
       "         [0.56993467, 0.545098  , 0.4797386 , ..., 0.2627451 ,\n",
       "          0.2627451 , 0.26013073],\n",
       "         [0.5882353 , 0.5398693 , 0.475817  , ..., 0.2640523 ,\n",
       "          0.26013073, 0.25751635],\n",
       "         ...,\n",
       "         [0.59738564, 0.7176471 , 0.40261438, ..., 0.00653595,\n",
       "          0.00261438, 0.00392157],\n",
       "         [0.44575164, 0.793464  , 0.67058825, ..., 0.00522876,\n",
       "          0.00653595, 0.00522876],\n",
       "         [0.29673204, 0.69803923, 0.84313726, ..., 0.00653595,\n",
       "          0.00653595, 0.00130719]],\n",
       " \n",
       "        [[0.28627452, 0.20784314, 0.2535948 , ..., 0.28496733,\n",
       "          0.3620915 , 0.30457518],\n",
       "         [0.24836601, 0.22745098, 0.33594772, ..., 0.27189544,\n",
       "          0.34901962, 0.30588236],\n",
       "         [0.29281047, 0.3006536 , 0.37908497, ..., 0.25751635,\n",
       "          0.33594772, 0.32941177],\n",
       "         ...,\n",
       "         [0.10718954, 0.10326798, 0.08104575, ..., 0.95032674,\n",
       "          0.9267974 , 0.90718955],\n",
       "         [0.09411765, 0.07843138, 0.07189543, ..., 0.96993464,\n",
       "          0.951634  , 0.9359477 ],\n",
       "         [0.07973856, 0.05359477, 0.06405229, ..., 0.96993464,\n",
       "          0.95032686, 0.9346406 ]],\n",
       " \n",
       "        [[0.31633988, 0.3895425 , 0.275817  , ..., 0.30588236,\n",
       "          0.17908497, 0.2875817 ],\n",
       "         [0.38300654, 0.40261438, 0.28366014, ..., 0.39346406,\n",
       "          0.19215687, 0.23398693],\n",
       "         [0.4130719 , 0.39477125, 0.28235295, ..., 0.4379085 ,\n",
       "          0.24444444, 0.24052288],\n",
       "         ...,\n",
       "         [0.21568628, 0.21699347, 0.21176471, ..., 0.33464053,\n",
       "          0.37777779, 0.8300654 ],\n",
       "         [0.22745098, 0.2248366 , 0.21960784, ..., 0.31764707,\n",
       "          0.5294118 , 0.9124183 ],\n",
       "         [0.23921569, 0.24444444, 0.24836601, ..., 0.4261438 ,\n",
       "          0.7895425 , 0.9555555 ]],\n",
       " \n",
       "        ...,\n",
       " \n",
       "        [[0.11633987, 0.11111111, 0.10196079, ..., 0.3398693 ,\n",
       "          0.3124183 , 0.29673204],\n",
       "         [0.11633987, 0.11764706, 0.15686275, ..., 0.31895426,\n",
       "          0.3385621 , 0.32156864],\n",
       "         [0.13594772, 0.14901961, 0.28496733, ..., 0.31633988,\n",
       "          0.32287583, 0.34901962],\n",
       "         ...,\n",
       "         [0.23529412, 0.22352941, 0.22091503, ..., 0.5712418 ,\n",
       "          0.5620915 , 0.5633987 ],\n",
       "         [0.23137255, 0.22745098, 0.22614379, ..., 0.5777778 ,\n",
       "          0.55947715, 0.5647059 ],\n",
       "         [0.24313726, 0.23660131, 0.23267974, ..., 0.5660131 ,\n",
       "          0.579085  , 0.5542484 ]],\n",
       " \n",
       "        [[0.19346406, 0.21045752, 0.29150328, ..., 0.59607846,\n",
       "          0.5947712 , 0.5555556 ],\n",
       "         [0.21699347, 0.26013073, 0.36601308, ..., 0.5803922 ,\n",
       "          0.57124186, 0.56993467],\n",
       "         [0.23660131, 0.2888889 , 0.4117647 , ..., 0.5633987 ,\n",
       "          0.5281046 , 0.54640526],\n",
       "         ...,\n",
       "         [0.23660131, 0.23660131, 0.2379085 , ..., 0.6797386 ,\n",
       "          0.6248366 , 0.61045754],\n",
       "         [0.2379085 , 0.24183007, 0.24444444, ..., 0.703268  ,\n",
       "          0.6313726 , 0.6287582 ],\n",
       "         [0.23921569, 0.24052288, 0.23921569, ..., 0.6875817 ,\n",
       "          0.6575164 , 0.5908497 ]],\n",
       " \n",
       "        [[0.12418301, 0.09673203, 0.10849673, ..., 0.24705882,\n",
       "          0.1882353 , 0.1882353 ],\n",
       "         [0.12156863, 0.11111111, 0.13464053, ..., 0.27189544,\n",
       "          0.16732027, 0.16078432],\n",
       "         [0.13071896, 0.1267974 , 0.1254902 , ..., 0.3254902 ,\n",
       "          0.19346406, 0.1764706 ],\n",
       "         ...,\n",
       "         [0.17777778, 0.16601308, 0.1751634 , ..., 0.08496732,\n",
       "          0.09019608, 0.19607843],\n",
       "         [0.1633987 , 0.16209151, 0.17385621, ..., 0.09281046,\n",
       "          0.1267974 , 0.19869281],\n",
       "         [0.17908497, 0.19477125, 0.20522876, ..., 0.12941177,\n",
       "          0.16209151, 0.29150328]]], dtype=float32),\n",
       " 'target': array([1, 3, 3, ..., 7, 3, 5], dtype=int64),\n",
       " 'target_names': array(['Ariel Sharon', 'Colin Powell', 'Donald Rumsfeld', 'George W Bush',\n",
       "        'Gerhard Schroeder', 'Hugo Chavez', 'Junichiro Koizumi',\n",
       "        'Tony Blair'], dtype='<U17'),\n",
       " 'DESCR': \".. _labeled_faces_in_the_wild_dataset:\\n\\nThe Labeled Faces in the Wild face recognition dataset\\n------------------------------------------------------\\n\\nThis dataset is a collection of JPEG pictures of famous people collected\\nover the internet, all details are available on the official website:\\n\\n    http://vis-www.cs.umass.edu/lfw/\\n\\nEach picture is centered on a single face. The typical task is called\\nFace Verification: given a pair of two pictures, a binary classifier\\nmust predict whether the two images are from the same person.\\n\\nAn alternative task, Face Recognition or Face Identification is:\\ngiven the picture of the face of an unknown person, identify the name\\nof the person by referring to a gallery of previously seen pictures of\\nidentified persons.\\n\\nBoth Face Verification and Face Recognition are tasks that are typically\\nperformed on the output of a model trained to perform Face Detection. The\\nmost popular model for Face Detection is called Viola-Jones and is\\nimplemented in the OpenCV library. The LFW faces were extracted by this\\nface detector from various online websites.\\n\\n**Data Set Characteristics:**\\n\\n    =================   =======================\\n    Classes                                5749\\n    Samples total                         13233\\n    Dimensionality                         5828\\n    Features            real, between 0 and 255\\n    =================   =======================\\n\\nUsage\\n~~~~~\\n\\n``scikit-learn`` provides two loaders that will automatically download,\\ncache, parse the metadata files, decode the jpeg and convert the\\ninteresting slices into memmapped numpy arrays. This dataset size is more\\nthan 200 MB. The first load typically takes more than a couple of minutes\\nto fully decode the relevant part of the JPEG files into numpy arrays. If\\nthe dataset has  been loaded once, the following times the loading times\\nless than 200ms by using a memmapped version memoized on the disk in the\\n``~/scikit_learn_data/lfw_home/`` folder using ``joblib``.\\n\\nThe first loader is used for the Face Identification task: a multi-class\\nclassification task (hence supervised learning)::\\n\\n  >>> from sklearn.datasets import fetch_lfw_people\\n  >>> lfw_people = fetch_lfw_people(min_faces_per_person=70, resize=0.4)\\n\\n  >>> for name in lfw_people.target_names:\\n  ...     print(name)\\n  ...\\n  Ariel Sharon\\n  Colin Powell\\n  Donald Rumsfeld\\n  George W Bush\\n  Gerhard Schroeder\\n  Hugo Chavez\\n  Tony Blair\\n\\nThe default slice is a rectangular shape around the face, removing\\nmost of the background::\\n\\n  >>> lfw_people.data.dtype\\n  dtype('float32')\\n\\n  >>> lfw_people.data.shape\\n  (1288, 1850)\\n\\n  >>> lfw_people.images.shape\\n  (1288, 50, 37)\\n\\nEach of the ``1140`` faces is assigned to a single person id in the ``target``\\narray::\\n\\n  >>> lfw_people.target.shape\\n  (1288,)\\n\\n  >>> list(lfw_people.target[:10])\\n  [5, 6, 3, 1, 0, 1, 3, 4, 3, 0]\\n\\nThe second loader is typically used for the face verification task: each sample\\nis a pair of two picture belonging or not to the same person::\\n\\n  >>> from sklearn.datasets import fetch_lfw_pairs\\n  >>> lfw_pairs_train = fetch_lfw_pairs(subset='train')\\n\\n  >>> list(lfw_pairs_train.target_names)\\n  ['Different persons', 'Same person']\\n\\n  >>> lfw_pairs_train.pairs.shape\\n  (2200, 2, 62, 47)\\n\\n  >>> lfw_pairs_train.data.shape\\n  (2200, 5828)\\n\\n  >>> lfw_pairs_train.target.shape\\n  (2200,)\\n\\nBoth for the :func:`sklearn.datasets.fetch_lfw_people` and\\n:func:`sklearn.datasets.fetch_lfw_pairs` function it is\\npossible to get an additional dimension with the RGB color channels by\\npassing ``color=True``, in that case the shape will be\\n``(2200, 2, 62, 47, 3)``.\\n\\nThe :func:`sklearn.datasets.fetch_lfw_pairs` datasets is subdivided into\\n3 subsets: the development ``train`` set, the development ``test`` set and\\nan evaluation ``10_folds`` set meant to compute performance metrics using a\\n10-folds cross validation scheme.\\n\\n.. topic:: References:\\n\\n * `Labeled Faces in the Wild: A Database for Studying Face Recognition\\n   in Unconstrained Environments.\\n   <http://vis-www.cs.umass.edu/lfw/lfw.pdf>`_\\n   Gary B. Huang, Manu Ramesh, Tamara Berg, and Erik Learned-Miller.\\n   University of Massachusetts, Amherst, Technical Report 07-49, October, 2007.\\n\\n\\nExamples\\n~~~~~~~~\\n\\n:ref:`sphx_glr_auto_examples_applications_plot_face_recognition.py`\\n\"}"
      ]
     },
     "execution_count": 25,
     "metadata": {},
     "output_type": "execute_result"
    }
   ],
   "source": [
    "faces = fetch_lfw_people(min_faces_per_person = 60)\n",
    "faces"
   ]
  },
  {
   "cell_type": "code",
   "execution_count": 31,
   "id": "b68368bb-c44a-4d4b-80af-d5da1b8efd54",
   "metadata": {},
   "outputs": [
    {
     "data": {
      "text/plain": [
       "(1348, 62, 47)"
      ]
     },
     "execution_count": 31,
     "metadata": {},
     "output_type": "execute_result"
    }
   ],
   "source": [
    "faces.images.shape #矩阵中有1348个图像,62是每个图像特征矩阵的行,47是每个图像特征矩阵的列"
   ]
  },
  {
   "cell_type": "code",
   "execution_count": 32,
   "id": "6bf0f06b-ab67-42a2-b41f-170408eddf5e",
   "metadata": {},
   "outputs": [
    {
     "data": {
      "text/plain": [
       "(1348, 2914)"
      ]
     },
     "execution_count": 32,
     "metadata": {},
     "output_type": "execute_result"
    }
   ],
   "source": [
    "faces.data.shape #1348个数值,2914个特征(62*47)"
   ]
  },
  {
   "cell_type": "code",
   "execution_count": 44,
   "id": "90bc1d7f-2abc-4dfd-9008-afbc162333ef",
   "metadata": {},
   "outputs": [
    {
     "data": {
      "image/png": "[encoded data removed]",
      "text/plain": [
       "<Figure size 1000x1500 with 20 Axes>"
      ]
     },
     "metadata": {},
     "output_type": "display_data"
    }
   ],
   "source": [
    "#画图\n",
    "X = faces.data\n",
    "fig,axes = plt.subplots(4,5,\n",
    "                        figsize = (10,15)\n",
    "                        ,subplot_kw = {\"xticks\":[],\"yticks\":[]}\n",
    "                       )"
   ]
  },
  {
   "cell_type": "code",
   "execution_count": null,
   "id": "6d31fa4c-5fee-40a1-9a2c-da8d90ba4af0",
   "metadata": {},
   "outputs": [],
   "source": []
  }
 ],
 "metadata": {
  "kernelspec": {
   "display_name": "Python 3 (ipykernel)",
   "language": "python",
   "name": "python3"
  },
  "language_info": {
   "codemirror_mode": {
    "name": "ipython",
    "version": 3
   },
   "file_extension": ".py",
   "mimetype": "text/x-python",
   "name": "python",
   "nbconvert_exporter": "python",
   "pygments_lexer": "ipython3",
   "version": "3.10.9"
  }
 },
 "nbformat": 4,
 "nbformat_minor": 5
}
