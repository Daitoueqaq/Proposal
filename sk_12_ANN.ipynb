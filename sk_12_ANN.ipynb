{
 "cells": [
  {
   "cell_type": "code",
   "execution_count": 15,
   "id": "21549352-3c82-4113-befe-2d7c73235280",
   "metadata": {},
   "outputs": [],
   "source": [
    "#单层神经网络模拟\n",
    "import numpy as np\n",
    "x = np.array([[0,0],[1,0],[0,1],[1,1]])\n",
    "z_reg = np.array([-0.2,-0.05,-0.05,0.1])"
   ]
  },
  {
   "cell_type": "code",
   "execution_count": 16,
   "id": "4569cc42-3c4f-4f25-9959-14e867e850b1",
   "metadata": {},
   "outputs": [],
   "source": [
    "def LinearR (x1,x2):\n",
    "    w1,w2,b = 0.15,0.15,-0.2\n",
    "    z = x1*w1 + x2*w2 + b\n",
    "    return z"
   ]
  },
  {
   "cell_type": "code",
   "execution_count": 17,
   "id": "d7045f10-da88-4ed4-809e-20893c0f3b12",
   "metadata": {},
   "outputs": [
    {
     "data": {
      "text/plain": [
       "array([-0.2 , -0.05, -0.05,  0.1 ])"
      ]
     },
     "execution_count": 17,
     "metadata": {},
     "output_type": "execute_result"
    }
   ],
   "source": [
    "LinearR(x[:,0],x[:,1])"
   ]
  },
  {
   "cell_type": "code",
   "execution_count": 18,
   "id": "4041b840-8489-4351-996f-0934bb81a427",
   "metadata": {},
   "outputs": [],
   "source": [
    "#单层分类神经网络模拟\n",
    "x = np.array([[0,0],[1,0],[0,1],[1,1]])\n",
    "y_and = np.array([0,0,0,1])\n",
    "\n",
    "def sigmoid (z):\n",
    "    return 1/(1+np.exp(-z))\n",
    "\n",
    "def And_sigmoid (x1,x2):\n",
    "    w1,w2,b = 0.15,0.15,-0.2\n",
    "    z = x1*w1 + x2*w2 + b\n",
    "    o = sigmoid(z)\n",
    "    y = [int(x) for x in o >= 0.5]\n",
    "    return o,y"
   ]
  },
  {
   "cell_type": "code",
   "execution_count": 19,
   "id": "bc5d282f-88c7-4e4b-a52f-6d6c485734a4",
   "metadata": {},
   "outputs": [
    {
     "data": {
      "text/plain": [
       "(array([0.450166  , 0.4875026 , 0.4875026 , 0.52497919]), [0, 0, 0, 1])"
      ]
     },
     "execution_count": 19,
     "metadata": {},
     "output_type": "execute_result"
    }
   ],
   "source": [
    "And_sigmoid(x[:,0],x[:,1])"
   ]
  },
  {
   "cell_type": "code",
   "execution_count": 20,
   "id": "8d815f5d-9d83-45b6-895e-6d1b3ec4fb86",
   "metadata": {},
   "outputs": [
    {
     "data": {
      "text/plain": [
       "[0, 0, 0, 1]"
      ]
     },
     "execution_count": 20,
     "metadata": {},
     "output_type": "execute_result"
    }
   ],
   "source": [
    "#单层分类神经网络模拟(2)\n",
    "def AND (x1,x2):\n",
    "    w1,w2,b = 0.15,0.15,-0.23\n",
    "    z = x1*w1 + x2*w2 + b\n",
    "    y = [int(x) for x in z >= 0]\n",
    "    return y\n",
    "AND(x[:,0],x[:,1])"
   ]
  },
  {
   "cell_type": "code",
   "execution_count": 3,
   "id": "13b2bbe2-15c6-4d5d-b63a-10c55b036edd",
   "metadata": {},
   "outputs": [
    {
     "data": {
      "text/plain": [
       "array([9.99954602e-01, 4.53978687e-05, 1.68883521e-48])"
      ]
     },
     "execution_count": 3,
     "metadata": {},
     "output_type": "execute_result"
    }
   ],
   "source": [
    "import numpy as np\n",
    "z = np.array([1010,1000,900])\n",
    "def softmax (z):\n",
    "\n",
    "    c = max(z)\n",
    "    exp_z = np.exp(z-c)\n",
    "    sum_exp_z = np.sum(exp_z)\n",
    "    o = exp_z/sum_exp_z\n",
    "    return o\n",
    "softmax(z)"
   ]
  },
  {
   "cell_type": "code",
   "execution_count": null,
   "id": "a6e4d33a-97f2-445a-b227-88ee4fa20f2d",
   "metadata": {},
   "outputs": [],
   "source": []
  }
 ],
 "metadata": {
  "kernelspec": {
   "display_name": "Python 3 (ipykernel)",
   "language": "python",
   "name": "python3"
  },
  "language_info": {
   "codemirror_mode": {
    "name": "ipython",
    "version": 3
   },
   "file_extension": ".py",
   "mimetype": "text/x-python",
   "name": "python",
   "nbconvert_exporter": "python",
   "pygments_lexer": "ipython3",
   "version": "3.10.9"
  }
 },
 "nbformat": 4,
 "nbformat_minor": 5
}
