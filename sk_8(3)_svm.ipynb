{
 "cells": [
  {
   "cell_type": "code",
   "execution_count": 2,
   "id": "83157e8e-b6c6-4763-b419-037729a60a5c",
   "metadata": {},
   "outputs": [
    {
     "data": {
      "text/html": [
       "<div>\n",
       "<style scoped>\n",
       "    .dataframe tbody tr th:only-of-type {\n",
       "        vertical-align: middle;\n",
       "    }\n",
       "\n",
       "    .dataframe tbody tr th {\n",
       "        vertical-align: top;\n",
       "    }\n",
       "\n",
       "    .dataframe thead th {\n",
       "        text-align: right;\n",
       "    }\n",
       "</style>\n",
       "<table border=\"1\" class=\"dataframe\">\n",
       "  <thead>\n",
       "    <tr style=\"text-align: right;\">\n",
       "      <th></th>\n",
       "      <th>Date</th>\n",
       "      <th>Location</th>\n",
       "      <th>MinTemp</th>\n",
       "      <th>MaxTemp</th>\n",
       "      <th>Rainfall</th>\n",
       "      <th>Evaporation</th>\n",
       "      <th>Sunshine</th>\n",
       "      <th>WindGustDir</th>\n",
       "      <th>WindGustSpeed</th>\n",
       "      <th>WindDir9am</th>\n",
       "      <th>...</th>\n",
       "      <th>Humidity9am</th>\n",
       "      <th>Humidity3pm</th>\n",
       "      <th>Pressure9am</th>\n",
       "      <th>Pressure3pm</th>\n",
       "      <th>Cloud9am</th>\n",
       "      <th>Cloud3pm</th>\n",
       "      <th>Temp9am</th>\n",
       "      <th>Temp3pm</th>\n",
       "      <th>RainToday</th>\n",
       "      <th>RainTomorrow</th>\n",
       "    </tr>\n",
       "  </thead>\n",
       "  <tbody>\n",
       "    <tr>\n",
       "      <th>0</th>\n",
       "      <td>2008-12-01</td>\n",
       "      <td>Albury</td>\n",
       "      <td>13.4</td>\n",
       "      <td>22.9</td>\n",
       "      <td>0.6</td>\n",
       "      <td>NaN</td>\n",
       "      <td>NaN</td>\n",
       "      <td>W</td>\n",
       "      <td>44.0</td>\n",
       "      <td>W</td>\n",
       "      <td>...</td>\n",
       "      <td>71.0</td>\n",
       "      <td>22.0</td>\n",
       "      <td>1007.7</td>\n",
       "      <td>1007.1</td>\n",
       "      <td>8.0</td>\n",
       "      <td>NaN</td>\n",
       "      <td>16.9</td>\n",
       "      <td>21.8</td>\n",
       "      <td>No</td>\n",
       "      <td>No</td>\n",
       "    </tr>\n",
       "    <tr>\n",
       "      <th>1</th>\n",
       "      <td>2008-12-02</td>\n",
       "      <td>Albury</td>\n",
       "      <td>7.4</td>\n",
       "      <td>25.1</td>\n",
       "      <td>0.0</td>\n",
       "      <td>NaN</td>\n",
       "      <td>NaN</td>\n",
       "      <td>WNW</td>\n",
       "      <td>44.0</td>\n",
       "      <td>NNW</td>\n",
       "      <td>...</td>\n",
       "      <td>44.0</td>\n",
       "      <td>25.0</td>\n",
       "      <td>1010.6</td>\n",
       "      <td>1007.8</td>\n",
       "      <td>NaN</td>\n",
       "      <td>NaN</td>\n",
       "      <td>17.2</td>\n",
       "      <td>24.3</td>\n",
       "      <td>No</td>\n",
       "      <td>No</td>\n",
       "    </tr>\n",
       "    <tr>\n",
       "      <th>2</th>\n",
       "      <td>2008-12-03</td>\n",
       "      <td>Albury</td>\n",
       "      <td>12.9</td>\n",
       "      <td>25.7</td>\n",
       "      <td>0.0</td>\n",
       "      <td>NaN</td>\n",
       "      <td>NaN</td>\n",
       "      <td>WSW</td>\n",
       "      <td>46.0</td>\n",
       "      <td>W</td>\n",
       "      <td>...</td>\n",
       "      <td>38.0</td>\n",
       "      <td>30.0</td>\n",
       "      <td>1007.6</td>\n",
       "      <td>1008.7</td>\n",
       "      <td>NaN</td>\n",
       "      <td>2.0</td>\n",
       "      <td>21.0</td>\n",
       "      <td>23.2</td>\n",
       "      <td>No</td>\n",
       "      <td>No</td>\n",
       "    </tr>\n",
       "  </tbody>\n",
       "</table>\n",
       "<p>3 rows × 23 columns</p>\n",
       "</div>"
      ],
      "text/plain": [
       "         Date Location  MinTemp  MaxTemp  Rainfall  Evaporation  Sunshine  \\\n",
       "0  2008-12-01   Albury     13.4     22.9       0.6          NaN       NaN   \n",
       "1  2008-12-02   Albury      7.4     25.1       0.0          NaN       NaN   \n",
       "2  2008-12-03   Albury     12.9     25.7       0.0          NaN       NaN   \n",
       "\n",
       "  WindGustDir  WindGustSpeed WindDir9am  ... Humidity9am  Humidity3pm  \\\n",
       "0           W           44.0          W  ...        71.0         22.0   \n",
       "1         WNW           44.0        NNW  ...        44.0         25.0   \n",
       "2         WSW           46.0          W  ...        38.0         30.0   \n",
       "\n",
       "   Pressure9am  Pressure3pm  Cloud9am  Cloud3pm  Temp9am  Temp3pm  RainToday  \\\n",
       "0       1007.7       1007.1       8.0       NaN     16.9     21.8         No   \n",
       "1       1010.6       1007.8       NaN       NaN     17.2     24.3         No   \n",
       "2       1007.6       1008.7       NaN       2.0     21.0     23.2         No   \n",
       "\n",
       "   RainTomorrow  \n",
       "0            No  \n",
       "1            No  \n",
       "2            No  \n",
       "\n",
       "[3 rows x 23 columns]"
      ]
     },
     "execution_count": 2,
     "metadata": {},
     "output_type": "execute_result"
    }
   ],
   "source": [
    "##### 真实案例 #####\n",
    "import pandas as pd\n",
    "import numpy as np\n",
    "from sklearn.model_selection import train_test_split\n",
    "weather = pd.read_csv(r\"A:\\Anaconda\\extra\\weatherAUS.csv\",index_col = 0)\n",
    "weather = weather.reset_index()\n",
    "weather.dropna(subset=['RainTomorrow'], inplace=True)\n",
    "weather.head(3)"
   ]
  },
  {
   "cell_type": "code",
   "execution_count": 3,
   "id": "a3125887-4531-4635-86c9-1f98c835f9a8",
   "metadata": {},
   "outputs": [
    {
     "name": "stdout",
     "output_type": "stream",
     "text": [
      "(142193, 22)\n",
      "(142193,)\n"
     ]
    }
   ],
   "source": [
    "#特征矩阵和标签分开\n",
    "x = weather.iloc[:,:-1]\n",
    "y = weather.iloc[:,-1].astype(str)\n",
    "print(x.shape);print(y.shape)"
   ]
  },
  {
   "cell_type": "code",
   "execution_count": 4,
   "id": "94837bc0-2f1d-4afe-a539-9d164a5e2844",
   "metadata": {},
   "outputs": [
    {
     "name": "stdout",
     "output_type": "stream",
     "text": [
      "<class 'pandas.core.frame.DataFrame'>\n",
      "Int64Index: 142193 entries, 0 to 145458\n",
      "Data columns (total 22 columns):\n",
      " #   Column         Non-Null Count   Dtype  \n",
      "---  ------         --------------   -----  \n",
      " 0   Date           142193 non-null  object \n",
      " 1   Location       142193 non-null  object \n",
      " 2   MinTemp        141556 non-null  float64\n",
      " 3   MaxTemp        141871 non-null  float64\n",
      " 4   Rainfall       140787 non-null  float64\n",
      " 5   Evaporation    81350 non-null   float64\n",
      " 6   Sunshine       74377 non-null   float64\n",
      " 7   WindGustDir    132863 non-null  object \n",
      " 8   WindGustSpeed  132923 non-null  float64\n",
      " 9   WindDir9am     132180 non-null  object \n",
      " 10  WindDir3pm     138415 non-null  object \n",
      " 11  WindSpeed9am   140845 non-null  float64\n",
      " 12  WindSpeed3pm   139563 non-null  float64\n",
      " 13  Humidity9am    140419 non-null  float64\n",
      " 14  Humidity3pm    138583 non-null  float64\n",
      " 15  Pressure9am    128179 non-null  float64\n",
      " 16  Pressure3pm    128212 non-null  float64\n",
      " 17  Cloud9am       88536 non-null   float64\n",
      " 18  Cloud3pm       85099 non-null   float64\n",
      " 19  Temp9am        141289 non-null  float64\n",
      " 20  Temp3pm        139467 non-null  float64\n",
      " 21  RainToday      140787 non-null  object \n",
      "dtypes: float64(16), object(6)\n",
      "memory usage: 25.0+ MB\n"
     ]
    }
   ],
   "source": [
    "x.info()"
   ]
  },
  {
   "cell_type": "code",
   "execution_count": 5,
   "id": "15026296-617e-4951-98d2-e7077ac19d7b",
   "metadata": {},
   "outputs": [
    {
     "data": {
      "text/plain": [
       "Date             0.000000\n",
       "Location         0.000000\n",
       "MinTemp          0.004480\n",
       "MaxTemp          0.002265\n",
       "Rainfall         0.009888\n",
       "Evaporation      0.427890\n",
       "Sunshine         0.476929\n",
       "WindGustDir      0.065615\n",
       "WindGustSpeed    0.065193\n",
       "WindDir9am       0.070418\n",
       "WindDir3pm       0.026570\n",
       "WindSpeed9am     0.009480\n",
       "WindSpeed3pm     0.018496\n",
       "Humidity9am      0.012476\n",
       "Humidity3pm      0.025388\n",
       "Pressure9am      0.098556\n",
       "Pressure3pm      0.098324\n",
       "Cloud9am         0.377353\n",
       "Cloud3pm         0.401525\n",
       "Temp9am          0.006358\n",
       "Temp3pm          0.019171\n",
       "RainToday        0.009888\n",
       "dtype: float64"
      ]
     },
     "execution_count": 5,
     "metadata": {},
     "output_type": "execute_result"
    }
   ],
   "source": [
    "x.isnull().mean() #查看缺失值比例\n",
    "#要有不同的缺失值填补策略"
   ]
  },
  {
   "cell_type": "code",
   "execution_count": 6,
   "id": "7a95b3ca-2f70-40fa-8f7a-65adf82cb825",
   "metadata": {},
   "outputs": [
    {
     "data": {
      "text/plain": [
       "array(['No', 'Yes'], dtype=object)"
      ]
     },
     "execution_count": 6,
     "metadata": {},
     "output_type": "execute_result"
    }
   ],
   "source": [
    "np.unique(y)"
   ]
  },
  {
   "cell_type": "code",
   "execution_count": 7,
   "id": "66016bce-879f-4a60-9eaa-58fa84eb50e2",
   "metadata": {},
   "outputs": [],
   "source": [
    "#真实数据分训练测试集并且恢复索引\n",
    "xtrain,xtest,ytrain,ytest = train_test_split(x,y,test_size = 0.18, random_state =420)\n",
    "for i in [xtrain,xtest,ytrain,ytest]:\n",
    "    i.index = range(i.shape[0])"
   ]
  },
  {
   "cell_type": "code",
   "execution_count": 8,
   "id": "5ae65509-e6d1-400e-8649-ab875b172b8c",
   "metadata": {},
   "outputs": [
    {
     "data": {
      "text/plain": [
       "No     19781\n",
       "Yes     5814\n",
       "Name: RainTomorrow, dtype: int64"
      ]
     },
     "execution_count": 8,
     "metadata": {},
     "output_type": "execute_result"
    }
   ],
   "source": [
    "ytrain.value_counts() #查看标签是否样本不均衡\n",
    "ytest.value_counts()"
   ]
  },
  {
   "cell_type": "code",
   "execution_count": 9,
   "id": "88589f29-8826-40ba-bb69-10b3e556393c",
   "metadata": {},
   "outputs": [],
   "source": [
    "# 处理标签\n",
    "from sklearn.preprocessing import LabelEncoder\n",
    "encoder = LabelEncoder().fit(y) #用训练集的训练结果告诉encoder分为yes,no,nan三类\n",
    "ytrain = pd.DataFrame(encoder.transform(ytrain)) #分类transform\n",
    "ytest = pd.DataFrame(encoder.transform(ytest))"
   ]
  },
  {
   "cell_type": "code",
   "execution_count": 10,
   "id": "27899fd7-ee87-4c27-a59a-e7a834f29317",
   "metadata": {},
   "outputs": [
    {
     "data": {
      "text/html": [
       "<div>\n",
       "<style scoped>\n",
       "    .dataframe tbody tr th:only-of-type {\n",
       "        vertical-align: middle;\n",
       "    }\n",
       "\n",
       "    .dataframe tbody tr th {\n",
       "        vertical-align: top;\n",
       "    }\n",
       "\n",
       "    .dataframe thead th {\n",
       "        text-align: right;\n",
       "    }\n",
       "</style>\n",
       "<table border=\"1\" class=\"dataframe\">\n",
       "  <thead>\n",
       "    <tr style=\"text-align: right;\">\n",
       "      <th></th>\n",
       "      <th>count</th>\n",
       "      <th>mean</th>\n",
       "      <th>std</th>\n",
       "      <th>min</th>\n",
       "      <th>1%</th>\n",
       "      <th>5%</th>\n",
       "      <th>10%</th>\n",
       "      <th>25%</th>\n",
       "      <th>50%</th>\n",
       "      <th>75%</th>\n",
       "      <th>90%</th>\n",
       "      <th>95%</th>\n",
       "      <th>99%</th>\n",
       "      <th>max</th>\n",
       "    </tr>\n",
       "  </thead>\n",
       "  <tbody>\n",
       "    <tr>\n",
       "      <th>MinTemp</th>\n",
       "      <td>116081.0</td>\n",
       "      <td>12.188207</td>\n",
       "      <td>6.403102</td>\n",
       "      <td>-8.5</td>\n",
       "      <td>-1.800</td>\n",
       "      <td>1.8</td>\n",
       "      <td>4.0</td>\n",
       "      <td>7.6</td>\n",
       "      <td>12.0</td>\n",
       "      <td>16.8</td>\n",
       "      <td>20.8</td>\n",
       "      <td>23.000</td>\n",
       "      <td>25.80</td>\n",
       "      <td>31.9</td>\n",
       "    </tr>\n",
       "    <tr>\n",
       "      <th>MaxTemp</th>\n",
       "      <td>116327.0</td>\n",
       "      <td>23.231956</td>\n",
       "      <td>7.114286</td>\n",
       "      <td>-4.8</td>\n",
       "      <td>9.200</td>\n",
       "      <td>12.9</td>\n",
       "      <td>14.5</td>\n",
       "      <td>17.9</td>\n",
       "      <td>22.6</td>\n",
       "      <td>28.3</td>\n",
       "      <td>32.9</td>\n",
       "      <td>35.500</td>\n",
       "      <td>40.10</td>\n",
       "      <td>48.1</td>\n",
       "    </tr>\n",
       "    <tr>\n",
       "      <th>Rainfall</th>\n",
       "      <td>115444.0</td>\n",
       "      <td>2.354601</td>\n",
       "      <td>8.419336</td>\n",
       "      <td>0.0</td>\n",
       "      <td>0.000</td>\n",
       "      <td>0.0</td>\n",
       "      <td>0.0</td>\n",
       "      <td>0.0</td>\n",
       "      <td>0.0</td>\n",
       "      <td>0.8</td>\n",
       "      <td>6.2</td>\n",
       "      <td>13.000</td>\n",
       "      <td>37.40</td>\n",
       "      <td>367.6</td>\n",
       "    </tr>\n",
       "    <tr>\n",
       "      <th>Evaporation</th>\n",
       "      <td>66559.0</td>\n",
       "      <td>5.465473</td>\n",
       "      <td>4.170460</td>\n",
       "      <td>0.0</td>\n",
       "      <td>0.400</td>\n",
       "      <td>1.0</td>\n",
       "      <td>1.4</td>\n",
       "      <td>2.6</td>\n",
       "      <td>4.8</td>\n",
       "      <td>7.4</td>\n",
       "      <td>10.2</td>\n",
       "      <td>12.000</td>\n",
       "      <td>18.40</td>\n",
       "      <td>86.2</td>\n",
       "    </tr>\n",
       "    <tr>\n",
       "      <th>Sunshine</th>\n",
       "      <td>60809.0</td>\n",
       "      <td>7.620763</td>\n",
       "      <td>3.782997</td>\n",
       "      <td>0.0</td>\n",
       "      <td>0.000</td>\n",
       "      <td>0.3</td>\n",
       "      <td>1.5</td>\n",
       "      <td>4.9</td>\n",
       "      <td>8.5</td>\n",
       "      <td>10.6</td>\n",
       "      <td>12.1</td>\n",
       "      <td>12.800</td>\n",
       "      <td>13.40</td>\n",
       "      <td>14.3</td>\n",
       "    </tr>\n",
       "    <tr>\n",
       "      <th>WindGustSpeed</th>\n",
       "      <td>108986.0</td>\n",
       "      <td>39.971923</td>\n",
       "      <td>13.600199</td>\n",
       "      <td>6.0</td>\n",
       "      <td>15.000</td>\n",
       "      <td>20.0</td>\n",
       "      <td>24.0</td>\n",
       "      <td>31.0</td>\n",
       "      <td>39.0</td>\n",
       "      <td>48.0</td>\n",
       "      <td>57.0</td>\n",
       "      <td>65.000</td>\n",
       "      <td>80.15</td>\n",
       "      <td>135.0</td>\n",
       "    </tr>\n",
       "    <tr>\n",
       "      <th>WindSpeed9am</th>\n",
       "      <td>115487.0</td>\n",
       "      <td>14.007767</td>\n",
       "      <td>8.910148</td>\n",
       "      <td>0.0</td>\n",
       "      <td>0.000</td>\n",
       "      <td>0.0</td>\n",
       "      <td>4.0</td>\n",
       "      <td>7.0</td>\n",
       "      <td>13.0</td>\n",
       "      <td>19.0</td>\n",
       "      <td>26.0</td>\n",
       "      <td>30.000</td>\n",
       "      <td>39.00</td>\n",
       "      <td>130.0</td>\n",
       "    </tr>\n",
       "    <tr>\n",
       "      <th>WindSpeed3pm</th>\n",
       "      <td>114434.0</td>\n",
       "      <td>18.630241</td>\n",
       "      <td>8.814139</td>\n",
       "      <td>0.0</td>\n",
       "      <td>2.000</td>\n",
       "      <td>6.0</td>\n",
       "      <td>7.0</td>\n",
       "      <td>13.0</td>\n",
       "      <td>19.0</td>\n",
       "      <td>24.0</td>\n",
       "      <td>30.0</td>\n",
       "      <td>33.000</td>\n",
       "      <td>43.00</td>\n",
       "      <td>87.0</td>\n",
       "    </tr>\n",
       "    <tr>\n",
       "      <th>Humidity9am</th>\n",
       "      <td>115154.0</td>\n",
       "      <td>68.823575</td>\n",
       "      <td>19.067263</td>\n",
       "      <td>0.0</td>\n",
       "      <td>17.000</td>\n",
       "      <td>34.0</td>\n",
       "      <td>44.0</td>\n",
       "      <td>57.0</td>\n",
       "      <td>70.0</td>\n",
       "      <td>83.0</td>\n",
       "      <td>94.0</td>\n",
       "      <td>98.000</td>\n",
       "      <td>100.00</td>\n",
       "      <td>100.0</td>\n",
       "    </tr>\n",
       "    <tr>\n",
       "      <th>Humidity3pm</th>\n",
       "      <td>113614.0</td>\n",
       "      <td>51.465779</td>\n",
       "      <td>20.769424</td>\n",
       "      <td>0.0</td>\n",
       "      <td>9.000</td>\n",
       "      <td>17.0</td>\n",
       "      <td>23.0</td>\n",
       "      <td>37.0</td>\n",
       "      <td>52.0</td>\n",
       "      <td>66.0</td>\n",
       "      <td>79.0</td>\n",
       "      <td>87.000</td>\n",
       "      <td>98.00</td>\n",
       "      <td>100.0</td>\n",
       "    </tr>\n",
       "    <tr>\n",
       "      <th>Pressure9am</th>\n",
       "      <td>105059.0</td>\n",
       "      <td>1017.654664</td>\n",
       "      <td>7.100310</td>\n",
       "      <td>980.5</td>\n",
       "      <td>1000.300</td>\n",
       "      <td>1006.2</td>\n",
       "      <td>1008.8</td>\n",
       "      <td>1012.9</td>\n",
       "      <td>1017.6</td>\n",
       "      <td>1022.4</td>\n",
       "      <td>1026.7</td>\n",
       "      <td>1029.500</td>\n",
       "      <td>1034.00</td>\n",
       "      <td>1041.0</td>\n",
       "    </tr>\n",
       "    <tr>\n",
       "      <th>Pressure3pm</th>\n",
       "      <td>105082.0</td>\n",
       "      <td>1015.258819</td>\n",
       "      <td>7.031911</td>\n",
       "      <td>977.1</td>\n",
       "      <td>998.581</td>\n",
       "      <td>1004.0</td>\n",
       "      <td>1006.4</td>\n",
       "      <td>1010.5</td>\n",
       "      <td>1015.2</td>\n",
       "      <td>1020.0</td>\n",
       "      <td>1024.3</td>\n",
       "      <td>1026.995</td>\n",
       "      <td>1031.60</td>\n",
       "      <td>1039.6</td>\n",
       "    </tr>\n",
       "    <tr>\n",
       "      <th>Cloud9am</th>\n",
       "      <td>72504.0</td>\n",
       "      <td>4.439231</td>\n",
       "      <td>2.886672</td>\n",
       "      <td>0.0</td>\n",
       "      <td>0.000</td>\n",
       "      <td>0.0</td>\n",
       "      <td>1.0</td>\n",
       "      <td>1.0</td>\n",
       "      <td>5.0</td>\n",
       "      <td>7.0</td>\n",
       "      <td>8.0</td>\n",
       "      <td>8.000</td>\n",
       "      <td>8.00</td>\n",
       "      <td>9.0</td>\n",
       "    </tr>\n",
       "    <tr>\n",
       "      <th>Cloud3pm</th>\n",
       "      <td>69618.0</td>\n",
       "      <td>4.508934</td>\n",
       "      <td>2.718480</td>\n",
       "      <td>0.0</td>\n",
       "      <td>0.000</td>\n",
       "      <td>0.0</td>\n",
       "      <td>1.0</td>\n",
       "      <td>2.0</td>\n",
       "      <td>5.0</td>\n",
       "      <td>7.0</td>\n",
       "      <td>8.0</td>\n",
       "      <td>8.000</td>\n",
       "      <td>8.00</td>\n",
       "      <td>9.0</td>\n",
       "    </tr>\n",
       "    <tr>\n",
       "      <th>Temp9am</th>\n",
       "      <td>115887.0</td>\n",
       "      <td>16.990936</td>\n",
       "      <td>6.490177</td>\n",
       "      <td>-7.2</td>\n",
       "      <td>2.700</td>\n",
       "      <td>6.9</td>\n",
       "      <td>8.9</td>\n",
       "      <td>12.3</td>\n",
       "      <td>16.7</td>\n",
       "      <td>21.6</td>\n",
       "      <td>25.9</td>\n",
       "      <td>28.200</td>\n",
       "      <td>31.20</td>\n",
       "      <td>40.2</td>\n",
       "    </tr>\n",
       "    <tr>\n",
       "      <th>Temp3pm</th>\n",
       "      <td>114363.0</td>\n",
       "      <td>21.694401</td>\n",
       "      <td>6.935491</td>\n",
       "      <td>-5.4</td>\n",
       "      <td>7.700</td>\n",
       "      <td>11.6</td>\n",
       "      <td>13.2</td>\n",
       "      <td>16.6</td>\n",
       "      <td>21.1</td>\n",
       "      <td>26.4</td>\n",
       "      <td>31.2</td>\n",
       "      <td>33.700</td>\n",
       "      <td>38.50</td>\n",
       "      <td>46.7</td>\n",
       "    </tr>\n",
       "  </tbody>\n",
       "</table>\n",
       "</div>"
      ],
      "text/plain": [
       "                  count         mean        std    min        1%      5%  \\\n",
       "MinTemp        116081.0    12.188207   6.403102   -8.5    -1.800     1.8   \n",
       "MaxTemp        116327.0    23.231956   7.114286   -4.8     9.200    12.9   \n",
       "Rainfall       115444.0     2.354601   8.419336    0.0     0.000     0.0   \n",
       "Evaporation     66559.0     5.465473   4.170460    0.0     0.400     1.0   \n",
       "Sunshine        60809.0     7.620763   3.782997    0.0     0.000     0.3   \n",
       "WindGustSpeed  108986.0    39.971923  13.600199    6.0    15.000    20.0   \n",
       "WindSpeed9am   115487.0    14.007767   8.910148    0.0     0.000     0.0   \n",
       "WindSpeed3pm   114434.0    18.630241   8.814139    0.0     2.000     6.0   \n",
       "Humidity9am    115154.0    68.823575  19.067263    0.0    17.000    34.0   \n",
       "Humidity3pm    113614.0    51.465779  20.769424    0.0     9.000    17.0   \n",
       "Pressure9am    105059.0  1017.654664   7.100310  980.5  1000.300  1006.2   \n",
       "Pressure3pm    105082.0  1015.258819   7.031911  977.1   998.581  1004.0   \n",
       "Cloud9am        72504.0     4.439231   2.886672    0.0     0.000     0.0   \n",
       "Cloud3pm        69618.0     4.508934   2.718480    0.0     0.000     0.0   \n",
       "Temp9am        115887.0    16.990936   6.490177   -7.2     2.700     6.9   \n",
       "Temp3pm        114363.0    21.694401   6.935491   -5.4     7.700    11.6   \n",
       "\n",
       "                  10%     25%     50%     75%     90%       95%      99%  \\\n",
       "MinTemp           4.0     7.6    12.0    16.8    20.8    23.000    25.80   \n",
       "MaxTemp          14.5    17.9    22.6    28.3    32.9    35.500    40.10   \n",
       "Rainfall          0.0     0.0     0.0     0.8     6.2    13.000    37.40   \n",
       "Evaporation       1.4     2.6     4.8     7.4    10.2    12.000    18.40   \n",
       "Sunshine          1.5     4.9     8.5    10.6    12.1    12.800    13.40   \n",
       "WindGustSpeed    24.0    31.0    39.0    48.0    57.0    65.000    80.15   \n",
       "WindSpeed9am      4.0     7.0    13.0    19.0    26.0    30.000    39.00   \n",
       "WindSpeed3pm      7.0    13.0    19.0    24.0    30.0    33.000    43.00   \n",
       "Humidity9am      44.0    57.0    70.0    83.0    94.0    98.000   100.00   \n",
       "Humidity3pm      23.0    37.0    52.0    66.0    79.0    87.000    98.00   \n",
       "Pressure9am    1008.8  1012.9  1017.6  1022.4  1026.7  1029.500  1034.00   \n",
       "Pressure3pm    1006.4  1010.5  1015.2  1020.0  1024.3  1026.995  1031.60   \n",
       "Cloud9am          1.0     1.0     5.0     7.0     8.0     8.000     8.00   \n",
       "Cloud3pm          1.0     2.0     5.0     7.0     8.0     8.000     8.00   \n",
       "Temp9am           8.9    12.3    16.7    21.6    25.9    28.200    31.20   \n",
       "Temp3pm          13.2    16.6    21.1    26.4    31.2    33.700    38.50   \n",
       "\n",
       "                  max  \n",
       "MinTemp          31.9  \n",
       "MaxTemp          48.1  \n",
       "Rainfall        367.6  \n",
       "Evaporation      86.2  \n",
       "Sunshine         14.3  \n",
       "WindGustSpeed   135.0  \n",
       "WindSpeed9am    130.0  \n",
       "WindSpeed3pm     87.0  \n",
       "Humidity9am     100.0  \n",
       "Humidity3pm     100.0  \n",
       "Pressure9am    1041.0  \n",
       "Pressure3pm    1039.6  \n",
       "Cloud9am          9.0  \n",
       "Cloud3pm          9.0  \n",
       "Temp9am          40.2  \n",
       "Temp3pm          46.7  "
      ]
     },
     "execution_count": 10,
     "metadata": {},
     "output_type": "execute_result"
    }
   ],
   "source": [
    "# 处理特征矩阵\n",
    "xtrain.describe([0.01,0.05,0.1,0.25,0.5,0.75,0.9,0.95,0.99]).T"
   ]
  },
  {
   "cell_type": "code",
   "execution_count": 11,
   "id": "5b909dba-d2a2-498d-b736-6ab10d958127",
   "metadata": {},
   "outputs": [
    {
     "data": {
      "text/plain": [
       "88800    9.0\n",
       "Name: Cloud9am, dtype: float64"
      ]
     },
     "execution_count": 11,
     "metadata": {},
     "output_type": "execute_result"
    }
   ],
   "source": [
    "##处理异常值:Cloud(因为cloud数据只能为0-8)\n",
    "xtrain.loc[xtrain.loc[:,\"Cloud9am\"] == 9,\"Cloud9am\"]"
   ]
  },
  {
   "cell_type": "code",
   "execution_count": 12,
   "id": "54beb78c-3152-4f73-a2f7-c8197e5e9b40",
   "metadata": {},
   "outputs": [
    {
     "data": {
      "text/plain": [
       "19646    9.0\n",
       "Name: Cloud9am, dtype: float64"
      ]
     },
     "execution_count": 12,
     "metadata": {},
     "output_type": "execute_result"
    }
   ],
   "source": [
    "xtest.loc[xtest.loc[:,\"Cloud9am\"] == 9,\"Cloud9am\"]"
   ]
  },
  {
   "cell_type": "code",
   "execution_count": 13,
   "id": "96c0040f-3131-42f5-87fe-c516d647993e",
   "metadata": {},
   "outputs": [
    {
     "data": {
      "text/plain": [
       "4037    9.0\n",
       "Name: Cloud3pm, dtype: float64"
      ]
     },
     "execution_count": 13,
     "metadata": {},
     "output_type": "execute_result"
    }
   ],
   "source": [
    "xtrain.loc[xtrain.loc[:,\"Cloud3pm\"] == 9,\"Cloud3pm\"]"
   ]
  },
  {
   "cell_type": "code",
   "execution_count": 14,
   "id": "794dd902-8906-485f-b4ab-972f4aa81de4",
   "metadata": {},
   "outputs": [
    {
     "data": {
      "text/plain": [
       "Series([], Name: Cloud3pm, dtype: float64)"
      ]
     },
     "execution_count": 14,
     "metadata": {},
     "output_type": "execute_result"
    }
   ],
   "source": [
    "xtest.loc[xtest.loc[:,\"Cloud3pm\"] == 9,\"Cloud3pm\"]"
   ]
  },
  {
   "cell_type": "code",
   "execution_count": 15,
   "id": "afdb18be-3497-431b-980d-499c02e5dafa",
   "metadata": {},
   "outputs": [],
   "source": [
    "xtrain = xtrain.drop(index = [4037,88800])\n",
    "ytrain = ytrain.drop(index = [4037,88800])\n",
    "xtest = xtest.drop(index = 19646)\n",
    "ytest = ytest.drop(index = 19646)\n",
    "for i in [xtrain,xtest,ytrain,ytest]:\n",
    "    i.index = range(i.shape[0])"
   ]
  },
  {
   "cell_type": "code",
   "execution_count": 16,
   "id": "b07c8551-53f0-4e6d-bbd2-610418ed0fcd",
   "metadata": {},
   "outputs": [
    {
     "data": {
      "text/plain": [
       "3408"
      ]
     },
     "execution_count": 16,
     "metadata": {},
     "output_type": "execute_result"
    }
   ],
   "source": [
    "##处理时间(日期)\n",
    "xtrain.iloc[:,0].value_counts().count() #有多少不同的日期？"
   ]
  },
  {
   "cell_type": "code",
   "execution_count": 17,
   "id": "84a06e6c-bd76-4e9e-9e84-bcbc523a091b",
   "metadata": {},
   "outputs": [
    {
     "data": {
      "text/plain": [
       "1154"
      ]
     },
     "execution_count": 17,
     "metadata": {},
     "output_type": "execute_result"
    }
   ],
   "source": [
    "xtrain[\"Rainfall\"].isnull().sum() #有多少列为空值？"
   ]
  },
  {
   "cell_type": "code",
   "execution_count": 18,
   "id": "9f654124-b3d9-428f-bb78-013797de266f",
   "metadata": {},
   "outputs": [],
   "source": [
    "#创造新特征:今天是否下雨\n",
    "#根据Rainfall判别,新加一列“RainT”\n",
    "xtrain.loc[xtrain[\"Rainfall\"] >= 0.8, \"RainT\"] = \"Yes\"\n",
    "xtrain.loc[xtrain[\"Rainfall\"] < 0.8, \"RainT\"] = \"No\"\n",
    "xtrain.loc[xtrain[\"Rainfall\"] == np.nan, \"RainT\"] = np.nan\n",
    "xtest.loc[xtest[\"Rainfall\"] >= 0.8, \"RainT\"] = \"Yes\"\n",
    "xtest.loc[xtest[\"Rainfall\"] < 0.8, \"RainT\"] = \"No\"\n",
    "xtest.loc[xtest[\"Rainfall\"] == np.nan, \"RainT\"] = np.nan"
   ]
  },
  {
   "cell_type": "code",
   "execution_count": 19,
   "id": "6b38ce52-bbdd-46ad-9b55-3705f9d67c7d",
   "metadata": {},
   "outputs": [
    {
     "data": {
      "text/plain": [
       "['2012', '02', '25']"
      ]
     },
     "execution_count": 19,
     "metadata": {},
     "output_type": "execute_result"
    }
   ],
   "source": [
    "#创造特征:月份\n",
    "xtrain.loc[0,\"Date\"].split(\"-\") #按照 - 进行分割"
   ]
  },
  {
   "cell_type": "code",
   "execution_count": 20,
   "id": "818387ad-989c-40f9-b99c-a1bf6aa8ea5a",
   "metadata": {},
   "outputs": [
    {
     "data": {
      "text/plain": [
       "2"
      ]
     },
     "execution_count": 20,
     "metadata": {},
     "output_type": "execute_result"
    }
   ],
   "source": [
    "int(xtrain.loc[0,\"Date\"].split(\"-\")[1]) #提取月份,int取整数"
   ]
  },
  {
   "cell_type": "code",
   "execution_count": 21,
   "id": "11250efb-c213-4ca8-9ddf-2ba21a40f465",
   "metadata": {},
   "outputs": [
    {
     "name": "stdout",
     "output_type": "stream",
     "text": [
      "3     10738\n",
      "5     10729\n",
      "1     10631\n",
      "6     10164\n",
      "7      9724\n",
      "10     9629\n",
      "8      9611\n",
      "11     9350\n",
      "4      9327\n",
      "9      9253\n",
      "12     8805\n",
      "2      8635\n",
      "Name: Month, dtype: int64\n",
      "5     2325\n",
      "3     2298\n",
      "1     2290\n",
      "6     2225\n",
      "10    2175\n",
      "8     2151\n",
      "11    2110\n",
      "9     2091\n",
      "7     2055\n",
      "12    2005\n",
      "4     1979\n",
      "2     1890\n",
      "Name: Month, dtype: int64\n"
     ]
    }
   ],
   "source": [
    "# apply 对dataframe中的某一列进行修改\n",
    "#lambda x匿名函数:在dataframe上这一列的每一行执行()中命令\n",
    "xtrain[\"Date\"] = xtrain[\"Date\"].apply(lambda x:int(x.split(\"-\")[1]))\n",
    "xtest[\"Date\"] = xtest[\"Date\"].apply(lambda x:int(x.split(\"-\")[1]))\n",
    "#改名字Date到Month\n",
    "xtrain = xtrain.rename(columns = {\"Date\":\"Month\"})\n",
    "xtest = xtest.rename(columns = {\"Date\":\"Month\"})\n",
    "print(xtrain.loc[:,\"Month\"].value_counts());print(xtest.loc[:,\"Month\"].value_counts())"
   ]
  },
  {
   "cell_type": "code",
   "execution_count": 22,
   "id": "f4736b74-c729-4530-bb1d-2653ceb3fdfe",
   "metadata": {},
   "outputs": [],
   "source": [
    "from sklearn.preprocessing import OneHotEncoder\n",
    "month_data_train = xtrain.iloc[:,xtrain.columns.get_loc(\"Month\")]\n",
    "ohe_train = OneHotEncoder().fit(month_data_train.values.reshape(-1, 1))\n",
    "ohe_result_train = ohe_train.transform(month_data_train.values.reshape(-1, 1)).toarray()\n",
    "xtrain = pd.concat([xtrain,pd.DataFrame(ohe_result_train)],axis=1)\n",
    "\n",
    "month_data_test = xtest.iloc[:,xtest.columns.get_loc(\"Month\")]\n",
    "ohe_test = OneHotEncoder().fit(month_data_test.values.reshape(-1, 1))\n",
    "ohe_result_test = ohe_test.transform(month_data_test.values.reshape(-1, 1)).toarray()\n",
    "xtest = pd.concat([xtest,pd.DataFrame(ohe_result_test)],axis=1)\n",
    "\n",
    "xtrain.drop([\"Month\"],axis = 1, inplace = True)\n",
    "xtest.drop([\"Month\"],axis = 1, inplace = True)\n",
    "\n",
    "\n",
    "xtrain = xtrain.rename(columns={0: \"Month_1\", 1: \"Month_2\", 2: \"Month_3\", 3: \"Month_4\",\n",
    "                                4: \"Month_5\", 5: \"Month_6\", 6: \"Month_7\", 7: \"Month_8\",\n",
    "                                8: \"Month_9\", 9: \"Month_10\", 10: \"Month_11\", 11: \"Month_12\"})\n",
    "\n",
    "xtest = xtest.rename(columns={0: \"Month_1\", 1: \"Month_2\", 2: \"Month_3\", 3: \"Month_4\",\n",
    "                                4: \"Month_5\", 5: \"Month_6\", 6: \"Month_7\", 7: \"Month_8\",\n",
    "                                8: \"Month_9\", 9: \"Month_10\", 10: \"Month_11\", 11: \"Month_12\"})"
   ]
  },
  {
   "cell_type": "code",
   "execution_count": 23,
   "id": "303a6a8d-5875-4b41-b24c-a92fa3396e82",
   "metadata": {},
   "outputs": [
    {
     "data": {
      "text/plain": [
       "49"
      ]
     },
     "execution_count": 23,
     "metadata": {},
     "output_type": "execute_result"
    }
   ],
   "source": [
    "xtrain.loc[:,\"Location\"].value_counts().count()"
   ]
  },
  {
   "cell_type": "code",
   "execution_count": 24,
   "id": "7fd48981-58bb-4ea8-8212-f4693dd79e78",
   "metadata": {},
   "outputs": [
    {
     "data": {
      "text/plain": [
       "['Location', 'WindGustDir', 'WindDir9am', 'WindDir3pm', 'RainToday', 'RainT']"
      ]
     },
     "execution_count": 24,
     "metadata": {},
     "output_type": "execute_result"
    }
   ],
   "source": [
    "## 缺失值处理\n",
    "#分类型变量填众数,连续型变量填平均值\n",
    "#测试集填补训练集的众数和均值\n",
    "classify_features = xtrain.columns[xtrain.dtypes  == \"object\"].tolist()\n",
    "classify_features"
   ]
  },
  {
   "cell_type": "code",
   "execution_count": 25,
   "id": "1676882e-82f7-4e8a-b311-ceb295472513",
   "metadata": {},
   "outputs": [
    {
     "data": {
      "text/plain": [
       "['Location',\n",
       " 'WindGustDir',\n",
       " 'WindDir9am',\n",
       " 'WindDir3pm',\n",
       " 'RainToday',\n",
       " 'RainT',\n",
       " 'Cloud9am',\n",
       " 'Cloud3pm']"
      ]
     },
     "execution_count": 25,
     "metadata": {},
     "output_type": "execute_result"
    }
   ],
   "source": [
    "cloud = [\"Cloud9am\",\"Cloud3pm\"] #云层信息也是分类型\n",
    "classify_features = classify_features + cloud\n",
    "classify_features"
   ]
  },
  {
   "cell_type": "code",
   "execution_count": 26,
   "id": "d3cd82b4-9820-4e7d-971a-11e3f26db6e0",
   "metadata": {},
   "outputs": [
    {
     "data": {
      "text/html": [
       "<style>#sk-container-id-1 {color: black;background-color: white;}#sk-container-id-1 pre{padding: 0;}#sk-container-id-1 div.sk-toggleable {background-color: white;}#sk-container-id-1 label.sk-toggleable__label {cursor: pointer;display: block;width: 100%;margin-bottom: 0;padding: 0.3em;box-sizing: border-box;text-align: center;}#sk-container-id-1 label.sk-toggleable__label-arrow:before {content: \"▸\";float: left;margin-right: 0.25em;color: #696969;}#sk-container-id-1 label.sk-toggleable__label-arrow:hover:before {color: black;}#sk-container-id-1 div.sk-estimator:hover label.sk-toggleable__label-arrow:before {color: black;}#sk-container-id-1 div.sk-toggleable__content {max-height: 0;max-width: 0;overflow: hidden;text-align: left;background-color: #f0f8ff;}#sk-container-id-1 div.sk-toggleable__content pre {margin: 0.2em;color: black;border-radius: 0.25em;background-color: #f0f8ff;}#sk-container-id-1 input.sk-toggleable__control:checked~div.sk-toggleable__content {max-height: 200px;max-width: 100%;overflow: auto;}#sk-container-id-1 input.sk-toggleable__control:checked~label.sk-toggleable__label-arrow:before {content: \"▾\";}#sk-container-id-1 div.sk-estimator input.sk-toggleable__control:checked~label.sk-toggleable__label {background-color: #d4ebff;}#sk-container-id-1 div.sk-label input.sk-toggleable__control:checked~label.sk-toggleable__label {background-color: #d4ebff;}#sk-container-id-1 input.sk-hidden--visually {border: 0;clip: rect(1px 1px 1px 1px);clip: rect(1px, 1px, 1px, 1px);height: 1px;margin: -1px;overflow: hidden;padding: 0;position: absolute;width: 1px;}#sk-container-id-1 div.sk-estimator {font-family: monospace;background-color: #f0f8ff;border: 1px dotted black;border-radius: 0.25em;box-sizing: border-box;margin-bottom: 0.5em;}#sk-container-id-1 div.sk-estimator:hover {background-color: #d4ebff;}#sk-container-id-1 div.sk-parallel-item::after {content: \"\";width: 100%;border-bottom: 1px solid gray;flex-grow: 1;}#sk-container-id-1 div.sk-label:hover label.sk-toggleable__label {background-color: #d4ebff;}#sk-container-id-1 div.sk-serial::before {content: \"\";position: absolute;border-left: 1px solid gray;box-sizing: border-box;top: 0;bottom: 0;left: 50%;z-index: 0;}#sk-container-id-1 div.sk-serial {display: flex;flex-direction: column;align-items: center;background-color: white;padding-right: 0.2em;padding-left: 0.2em;position: relative;}#sk-container-id-1 div.sk-item {position: relative;z-index: 1;}#sk-container-id-1 div.sk-parallel {display: flex;align-items: stretch;justify-content: center;background-color: white;position: relative;}#sk-container-id-1 div.sk-item::before, #sk-container-id-1 div.sk-parallel-item::before {content: \"\";position: absolute;border-left: 1px solid gray;box-sizing: border-box;top: 0;bottom: 0;left: 50%;z-index: -1;}#sk-container-id-1 div.sk-parallel-item {display: flex;flex-direction: column;z-index: 1;position: relative;background-color: white;}#sk-container-id-1 div.sk-parallel-item:first-child::after {align-self: flex-end;width: 50%;}#sk-container-id-1 div.sk-parallel-item:last-child::after {align-self: flex-start;width: 50%;}#sk-container-id-1 div.sk-parallel-item:only-child::after {width: 0;}#sk-container-id-1 div.sk-dashed-wrapped {border: 1px dashed gray;margin: 0 0.4em 0.5em 0.4em;box-sizing: border-box;padding-bottom: 0.4em;background-color: white;}#sk-container-id-1 div.sk-label label {font-family: monospace;font-weight: bold;display: inline-block;line-height: 1.2em;}#sk-container-id-1 div.sk-label-container {text-align: center;}#sk-container-id-1 div.sk-container {/* jupyter's `normalize.less` sets `[hidden] { display: none; }` but bootstrap.min.css set `[hidden] { display: none !important; }` so we also need the `!important` here to be able to override the default hidden behavior on the sphinx rendered scikit-learn.org. See: https://github.com/scikit-learn/scikit-learn/issues/21755 */display: inline-block !important;position: relative;}#sk-container-id-1 div.sk-text-repr-fallback {display: none;}</style><div id=\"sk-container-id-1\" class=\"sk-top-container\"><div class=\"sk-text-repr-fallback\"><pre>SimpleImputer(strategy=&#x27;most_frequent&#x27;)</pre><b>In a Jupyter environment, please rerun this cell to show the HTML representation or trust the notebook. <br />On GitHub, the HTML representation is unable to render, please try loading this page with nbviewer.org.</b></div><div class=\"sk-container\" hidden><div class=\"sk-item\"><div class=\"sk-estimator sk-toggleable\"><input class=\"sk-toggleable__control sk-hidden--visually\" id=\"sk-estimator-id-1\" type=\"checkbox\" checked><label for=\"sk-estimator-id-1\" class=\"sk-toggleable__label sk-toggleable__label-arrow\">SimpleImputer</label><div class=\"sk-toggleable__content\"><pre>SimpleImputer(strategy=&#x27;most_frequent&#x27;)</pre></div></div></div></div></div>"
      ],
      "text/plain": [
       "SimpleImputer(strategy='most_frequent')"
      ]
     },
     "execution_count": 26,
     "metadata": {},
     "output_type": "execute_result"
    }
   ],
   "source": [
    "from sklearn.impute import SimpleImputer\n",
    "most_fre_imputer = SimpleImputer (missing_values = np.nan,\n",
    "                                  strategy = \"most_frequent\"\n",
    "                                 )\n",
    "most_fre_imputer.fit(xtrain.loc[:,classify_features])"
   ]
  },
  {
   "cell_type": "code",
   "execution_count": 27,
   "id": "cb36400d-4567-427d-ba32-648d83a430e8",
   "metadata": {},
   "outputs": [
    {
     "name": "stdout",
     "output_type": "stream",
     "text": [
      "Location       0\n",
      "WindGustDir    0\n",
      "WindDir9am     0\n",
      "WindDir3pm     0\n",
      "RainToday      0\n",
      "RainT          0\n",
      "Cloud9am       0\n",
      "Cloud3pm       0\n",
      "dtype: int64\n",
      "Location       0\n",
      "WindGustDir    0\n",
      "WindDir9am     0\n",
      "WindDir3pm     0\n",
      "RainToday      0\n",
      "RainT          0\n",
      "Cloud9am       0\n",
      "Cloud3pm       0\n",
      "dtype: int64\n"
     ]
    }
   ],
   "source": [
    "xtrain.loc[:,classify_features] = most_fre_imputer.transform(xtrain.loc[:,classify_features])\n",
    "xtest.loc[:,classify_features] = most_fre_imputer.transform(xtest.loc[:,classify_features])\n",
    "print(xtrain.loc[:,classify_features].isnull().sum());print(xtest.loc[:,classify_features].isnull().sum())"
   ]
  },
  {
   "cell_type": "code",
   "execution_count": 28,
   "id": "9dd8572f-0b2c-4c41-8149-2a2065614fd6",
   "metadata": {},
   "outputs": [
    {
     "name": "stderr",
     "output_type": "stream",
     "text": [
      "C:\\Users\\boyua\\AppData\\Local\\Temp\\ipykernel_15372\\997094050.py:8: DeprecationWarning: In a future version, `df.iloc[:, i] = newvals` will attempt to set the values inplace instead of always setting a new array. To retain the old behavior, use either `df[df.columns[i]] = newvals` or, if columns are non-unique, `df.isetitem(i, newvals)`\n",
      "  xtrain.loc[:,oe_features] = oe.transform(xtrain.loc[:,oe_features])\n",
      "C:\\Users\\boyua\\AppData\\Local\\Temp\\ipykernel_15372\\997094050.py:9: DeprecationWarning: In a future version, `df.iloc[:, i] = newvals` will attempt to set the values inplace instead of always setting a new array. To retain the old behavior, use either `df[df.columns[i]] = newvals` or, if columns are non-unique, `df.isetitem(i, newvals)`\n",
      "  xtest.loc[:,oe_features] = oe.transform(xtest.loc[:,oe_features])\n"
     ]
    }
   ],
   "source": [
    "#将分类型变量转变为数字(编码)\n",
    "from sklearn.preprocessing import OrdinalEncoder\n",
    "from sklearn.preprocessing import OneHotEncoder\n",
    "#普通分类\n",
    "oe_features = [\"RainToday\",\"RainT\",\"Cloud9am\",\"Cloud3pm\"]\n",
    "oe = OrdinalEncoder()\n",
    "oe = oe.fit(xtrain.loc[:,oe_features])\n",
    "xtrain.loc[:,oe_features] = oe.transform(xtrain.loc[:,oe_features])\n",
    "xtest.loc[:,oe_features] = oe.transform(xtest.loc[:,oe_features])"
   ]
  },
  {
   "cell_type": "code",
   "execution_count": 29,
   "id": "5762aa16-d08a-4f4f-b031-98d841f990ca",
   "metadata": {},
   "outputs": [],
   "source": [
    "#哑变量\n",
    "from sklearn.preprocessing import OneHotEncoder\n",
    "oh_features = [\"WindGustDir\",\"WindDir9am\",\"WindDir3pm\"]\n",
    "\n",
    "train_oh_features = xtrain[oh_features]\n",
    "oh_instantiate_train = OneHotEncoder().fit(train_oh_features)\n",
    "result_train = oh_instantiate_train.transform(train_oh_features).toarray()\n",
    "test_oh_features = xtest[oh_features]\n",
    "oh_instantiate_test = OneHotEncoder().fit(test_oh_features)\n",
    "result_test = oh_instantiate_test.transform(test_oh_features).toarray()\n",
    "xtrain = pd.concat([xtrain,pd.DataFrame(result_train)],axis=1)\n",
    "xtest = pd.concat([xtest,pd.DataFrame(result_test)],axis=1)\n",
    "\n",
    "xtrain.drop([\"WindGustDir\",\"WindDir9am\",\"WindDir3pm\"],axis = 1, inplace = True)\n",
    "xtest.drop([\"WindGustDir\",\"WindDir9am\",\"WindDir3pm\"],axis = 1, inplace = True)\n",
    "xtrain = xtrain.rename(columns={0:'WindGustDir_E', 1:'WindGustDir_ENE', 2:'WindGustDir_ESE',\n",
    "                                3:'WindGustDir_N', 4:'WindGustDir_NE', 5:'WindGustDir_NNE',\n",
    "                                6:'WindGustDir_NNW', 7:'WindGustDir_NW', 8:'WindGustDir_S',\n",
    "                                9:'WindGustDir_SE', 10:'WindGustDir_SSE', 11:'WindGustDir_SSW',\n",
    "                                12:'WindGustDir_SW', 13:'WindGustDir_W', 14:'WindGustDir_WNW',\n",
    "                                15:'WindGustDir_WSW', 16:'WindDir9am_E', 17:'WindDir9am_ENE',\n",
    "                                18:'WindDir9am_ESE', 19:'WindDir9am_N', 20:'WindDir9am_NE',\n",
    "                                21:'WindDir9am_NNE', 22:'WindDir9am_NNW', 23:'WindDir9am_NW',\n",
    "                                24:'WindDir9am_S', 25:'WindDir9am_SE', 26:'WindDir9am_SSE',\n",
    "                                27:'WindDir9am_SSW', 28:'WindDir9am_SW', 29:'WindDir9am_W',\n",
    "                                30:'WindDir9am_WNW', 31:'WindDir9am_WSW', 32:'WindDir3pm_E',\n",
    "                                33:'WindDir3pm_ENE', 34:'WindDir3pm_ESE', 35:'WindDir3pm_N',\n",
    "                                36:'WindDir3pm_NE', 37:'WindDir3pm_NNE', 38:'WindDir3pm_NNW',\n",
    "                                39:'WindDir3pm_NW', 40:'WindDir3pm_S', 41:'WindDir3pm_SE', \n",
    "                                42:'WindDir3pm_SSE', 43:'WindDir3pm_SSW', 44:'WindDir3pm_SW', \n",
    "                                45:'WindDir3pm_W', 46:'WindDir3pm_WNW', 47:'WindDir3pm_WSW'})\n",
    "\n",
    "xtest = xtest.rename(columns = {0:'WindGustDir_E', 1:'WindGustDir_ENE', 2:'WindGustDir_ESE',\n",
    "                                3:'WindGustDir_N', 4:'WindGustDir_NE', 5:'WindGustDir_NNE',\n",
    "                                6:'WindGustDir_NNW', 7:'WindGustDir_NW', 8:'WindGustDir_S',\n",
    "                                9:'WindGustDir_SE', 10:'WindGustDir_SSE', 11:'WindGustDir_SSW',\n",
    "                                12:'WindGustDir_SW', 13:'WindGustDir_W', 14:'WindGustDir_WNW',\n",
    "                                15:'WindGustDir_WSW', 16:'WindDir9am_E', 17:'WindDir9am_ENE',\n",
    "                                18:'WindDir9am_ESE', 19:'WindDir9am_N', 20:'WindDir9am_NE',\n",
    "                                21:'WindDir9am_NNE', 22:'WindDir9am_NNW', 23:'WindDir9am_NW',\n",
    "                                24:'WindDir9am_S', 25:'WindDir9am_SE', 26:'WindDir9am_SSE',\n",
    "                                27:'WindDir9am_SSW', 28:'WindDir9am_SW', 29:'WindDir9am_W',\n",
    "                                30:'WindDir9am_WNW', 31:'WindDir9am_WSW', 32:'WindDir3pm_E',\n",
    "                                33:'WindDir3pm_ENE', 34:'WindDir3pm_ESE', 35:'WindDir3pm_N',\n",
    "                                36:'WindDir3pm_NE', 37:'WindDir3pm_NNE', 38:'WindDir3pm_NNW',\n",
    "                                39:'WindDir3pm_NW', 40:'WindDir3pm_S', 41:'WindDir3pm_SE', \n",
    "                                42:'WindDir3pm_SSE', 43:'WindDir3pm_SSW', 44:'WindDir3pm_SW', \n",
    "                                45:'WindDir3pm_W', 46:'WindDir3pm_WNW', 47:'WindDir3pm_WSW'})"
   ]
  },
  {
   "cell_type": "code",
   "execution_count": 30,
   "id": "552f1e06-e109-424d-ac37-5e6f5f25f85a",
   "metadata": {},
   "outputs": [],
   "source": [
    "col = ['MinTemp','MaxTemp','Rainfall','Evaporation','Sunshine','WindGustSpeed','WindSpeed9am','WindSpeed3pm','Humidity9am',\n",
    "       'Humidity3pm','Pressure9am','Pressure3pm','Temp9am','Temp3pm']\n",
    "mean_imputer = SimpleImputer(missing_values = np.nan,strategy = \"mean\")\n",
    "mean_imputer = mean_imputer.fit(xtrain.loc[:,col])\n",
    "xtrain.loc[:,col] = mean_imputer.transform(xtrain.loc[:,col])\n",
    "xtest.loc[:,col] = mean_imputer.transform(xtest.loc[:,col])"
   ]
  },
  {
   "cell_type": "code",
   "execution_count": 31,
   "id": "d999183a-6629-4c6c-a373-0ece86ac4241",
   "metadata": {},
   "outputs": [],
   "source": [
    "#无量纲化\n",
    "from sklearn.preprocessing import StandardScaler\n",
    "ss = StandardScaler()\n",
    "ss = ss.fit(xtrain.loc[:,col])\n",
    "xtrain.loc[:,col] = ss.transform(xtrain.loc[:,col])\n",
    "xtest.loc[:,col] = ss.transform(xtest.loc[:,col]) "
   ]
  },
  {
   "cell_type": "code",
   "execution_count": 32,
   "id": "31252447-5290-4e02-b80f-4e9f2f7eda7b",
   "metadata": {},
   "outputs": [],
   "source": [
    "xtrain.drop([\"Location\"],axis = 1, inplace = True)\n",
    "xtest.drop([\"Location\"],axis = 1, inplace = True)"
   ]
  },
  {
   "cell_type": "code",
   "execution_count": 35,
   "id": "1ff0f566-60c1-460b-a5a5-f0fec6450a5b",
   "metadata": {},
   "outputs": [],
   "source": [
    "#########建模############\n",
    "from time import time\n",
    "import datetime\n",
    "from sklearn.svm import SVC\n",
    "from sklearn.model_selection import cross_val_score\n",
    "from sklearn.metrics import roc_auc_score,recall_score"
   ]
  },
  {
   "cell_type": "code",
   "execution_count": 33,
   "id": "230e8558-3668-4746-8507-244c18ff1e74",
   "metadata": {},
   "outputs": [
    {
     "name": "stdout",
     "output_type": "stream",
     "text": [
      "Kernel: linear  Accuracy: 0.843323, Recall: 0.473340, Auc area: 0.865909\n",
      "20:57:06:865862\n"
     ]
    }
   ],
   "source": [
    "ytrain = ytrain.iloc[:,0].ravel()\n",
    "ytest = ytest.iloc[:,0].ravel()\n",
    "for kernel in [\"linear\"]:\n",
    "    times = time()\n",
    "    model = SVC(kernel = kernel,\n",
    "               gamma = \"auto\",\n",
    "               degree = 1,\n",
    "               cache_size = 5000\n",
    "               ).fit(xtrain,ytrain)\n",
    "    result = model.predict(xtest)    #获取预测结果\n",
    "    score = model.score(xtest,ytest)    #预测结果与真实结果对比获得accuracy\n",
    "    recall = recall_score(ytest,result)    #预测结果与真实结果对比获得recall\n",
    "    auc = roc_auc_score(ytest,model.decision_function(xtest))    #获得auc曲线\n",
    "    print (\"Kernel: %s  Accuracy: %f, Recall: %f, Auc area: %f\" % (kernel,score,recall,auc))\n",
    "    print (datetime.datetime.fromtimestamp(time()-times).strftime(\"%H:%M:%S:%f\"))"
   ]
  },
  {
   "cell_type": "code",
   "execution_count": 34,
   "id": "e66615f7-aed7-4aed-9825-fe35692a490c",
   "metadata": {},
   "outputs": [],
   "source": [
    "####调参\n",
    "##最高的召回率recall\n",
    "#如果追求较高的recall(最高的少数类分辨),则在意参数class_weight"
   ]
  },
  {
   "cell_type": "code",
   "execution_count": 35,
   "id": "3128b93f-9f08-4b9a-9209-49472c3cc96e",
   "metadata": {},
   "outputs": [
    {
     "name": "stdout",
     "output_type": "stream",
     "text": [
      "Kernel: linear  Accuracy: 0.627764, Recall: 0.929137, Auc area: 0.864820\n",
      "21:43:14:856087\n"
     ]
    }
   ],
   "source": [
    "##class_weight更倾向少数类\n",
    "times = time()\n",
    "model = SVC(kernel = \"linear\",\n",
    "            gamma = \"auto\",\n",
    "            class_weight = {1:10}, #类别1的权重为10(类别0权重为1)\n",
    "            cache_size = 5000\n",
    "            ).fit(xtrain,ytrain)\n",
    "result = model.predict(xtest)\n",
    "score = model.score(xtest,ytest)\n",
    "recall = recall_score(ytest,result)\n",
    "auc = roc_auc_score(ytest,model.decision_function(xtest))\n",
    "print (\"Kernel: %s  Accuracy: %f, Recall: %f, Auc area: %f\" % (kernel,score,recall,auc))\n",
    "print (datetime.datetime.fromtimestamp(time()-times).strftime(\"%H:%M:%S:%f\"))"
   ]
  },
  {
   "cell_type": "code",
   "execution_count": null,
   "id": "ffc00f80-6767-46bf-b132-3338417a6cf5",
   "metadata": {},
   "outputs": [],
   "source": [
    "from baocuo import stopstopstop!!! #报错专用"
   ]
  },
  {
   "cell_type": "code",
   "execution_count": null,
   "id": "55178627-d52c-43b0-880e-3f6672696776",
   "metadata": {},
   "outputs": [],
   "source": [
    "for kernel in [\"linear\", \"poly\", \"rbf\", \"sigmoid\"]:\n",
    "    if kernel == \"poly\":\n",
    "        for degree in [1, 2, 3, 4, 5]:\n",
    "            times = time()\n",
    "            model = SVC(kernel=kernel,\n",
    "                        gamma=\"auto\",\n",
    "                        degree=degree,\n",
    "                        cache_size=5000).fit(xtrain, ytrain)\n",
    "            result = model.predict(xtest)\n",
    "            score = model.score(xtest, ytest)\n",
    "            auc = roc_auc_score(ytest, model.decision_function(xtest))\n",
    "            recall = recall_score(ytest, result)\n",
    "            print(\"Kernel: %s (%f degree)  Accuracy: %f, Recall: %f, Auc area: %f\" % (kernel, degree, score, recall, auc))\n",
    "            print(datetime.datetime.fromtimestamp(time() - times).strftime(\"%H:%M:%S:%f\"))\n",
    "    else:\n",
    "        times = time()\n",
    "        model = SVC(kernel=kernel,\n",
    "                    gamma=\"auto\",\n",
    "                    cache_size=5000).fit(xtrain, ytrain)\n",
    "        result = model.predict(xtest)\n",
    "        score = model.score(xtest, ytest)\n",
    "        auc = roc_auc_score(ytest, model.decision_function(xtest))\n",
    "        recall = recall_score(ytest, result)\n",
    "        print(\"Kernel: %s  Accuracy: %f, Recall: %f, Auc area: %f\" % (kernel, score, recall, auc))\n",
    "        print(datetime.datetime.fromtimestamp(time() - times).strftime(\"%H:%M:%S:%f\"))\n",
    "        \n",
    "#result\n",
    "#Kernel: linear  Accuracy: 0.843205, Recall: 0.472652, Auc area: 0.865903\n",
    "#28:11\n",
    "#Kernel: rbf  Accuracy: 0.849457, Recall: 0.456828, Auc area: 0.854883\n",
    "#16:06\n",
    "#Kernel: sigmoid  Accuracy: 0.760178, Recall: 0.468352, Auc area: 0.729452\n",
    "#20:02\n",
    "#Kernel: poly (1.000000 degree)  Accuracy: 0.843166, Recall: 0.471448, Auc area: 0.865959\n",
    "#13:04\n",
    "#Kernel: poly (2.000000 degree)  Accuracy: 0.847347, Recall: 0.452356, Auc area: 0.865292\n",
    "#14:44\n",
    "#Kernel: poly (3.000000 degree)  Accuracy: 0.848675, Recall: 0.448228, Auc area: 0.855647\n",
    "#20:28\n",
    "#Kernel: poly (4.000000 degree)  Accuracy: 0.850277, Recall: 0.453388, Auc area: 0.849829\n",
    "#40:40\n",
    "#Kernel: poly (5.000000 degree)  Accuracy: 0.851723, Recall: 0.459408, Auc area: 0.846330\n",
    "#03:38"
   ]
  },
  {
   "cell_type": "code",
   "execution_count": null,
   "id": "1bb601ad-7a01-4fe9-bd5f-a10f4a1362f3",
   "metadata": {},
   "outputs": [],
   "source": [
    "##class_weight使用 \"balanced\"\n",
    "for kernel in [\"linear\", \"poly\", \"rbf\", \"sigmoid\"]:\n",
    "    if kernel == \"poly\":\n",
    "        for degree in [1, 2, 3, 4, 5]:\n",
    "            times = time()\n",
    "            model = SVC(kernel=kernel,\n",
    "                        gamma=\"auto\",\n",
    "                        class_weight = \"balanced\",\n",
    "                        degree=degree,\n",
    "                        cache_size=5000).fit(xtrain, ytrain)\n",
    "            result = model.predict(xtest)\n",
    "            score = model.score(xtest, ytest)\n",
    "            auc = roc_auc_score(ytest, model.decision_function(xtest))\n",
    "            recall = recall_score(ytest, result)\n",
    "            print(\"Kernel: %s (%f degree)  Accuracy: %f, Recall: %f, Auc area: %f\" % (kernel, degree, score, recall, auc))\n",
    "            print(datetime.datetime.fromtimestamp(time() - times).strftime(\"%H:%M:%S:%f\"))\n",
    "    else:\n",
    "        times = time()\n",
    "        model = SVC(kernel=kernel,\n",
    "                    gamma=\"auto\",\n",
    "                    class_weight = \"balanced\",\n",
    "                    cache_size=5000).fit(xtrain, ytrain)\n",
    "        result = model.predict(xtest)\n",
    "        score = model.score(xtest, ytest)\n",
    "        auc = roc_auc_score(ytest, model.decision_function(xtest))\n",
    "        recall = recall_score(ytest, result)\n",
    "        print(\"Kernel: %s  Accuracy: %f, Recall: %f, Auc area: %f\" % (kernel, score, recall, auc))\n",
    "        print(datetime.datetime.fromtimestamp(time() - times).strftime(\"%H:%M:%S:%f\"))\n",
    "        \n",
    "        \n",
    "#result\n",
    "#Kernel: linear  Accuracy: 0.792920, Recall: 0.766082, Auc area: 0.866870\n",
    "#48:14\n",
    "#Kernel: rbf  Accuracy: 0.803313, Recall: 0.783970, Auc area: 0.880933\n",
    "#31:36\n",
    "#Kernel: sigmoid  Accuracy: 0.672072, Recall: 0.676815, Auc area: 0.722679\n",
    "#24:59\n",
    "#Kernel: poly (1.000000 degree)  Accuracy: 0.792842, Recall: 0.765738, Auc area: 0.866884\n",
    "#27:33\n",
    "#Kernel: poly (2.000000 degree)  Accuracy: 0.808197, Recall: 0.765394, Auc area: 0.876856\n",
    "#28:25\n",
    "#Kernel: poly (3.000000 degree)  Accuracy: 0.811557, Recall: 0.763158, Auc area: 0.878329\n",
    "#28:33\n",
    "#Kernel: poly (4.000000 degree)  Accuracy: 0.813706, Recall: 0.753526, Auc area: 0.876388\n",
    "#36:16\n",
    "#Kernel: poly (5.000000 degree)  Accuracy: 0.816051, Recall: 0.740454, Auc area: 0.873485\n",
    "#54:22"
   ]
  },
  {
   "cell_type": "code",
   "execution_count": 39,
   "id": "b378d153-b77b-4129-9670-ab7677af9add",
   "metadata": {},
   "outputs": [],
   "source": [
    "##最高的准确度\n",
    "#查看混淆矩阵  (及特异度)\n",
    "#如果模型可以捕捉更多的少数类\n",
    "from sklearn.metrics import confusion_matrix  as CM\n",
    "\n",
    "model_init_rbf = SVC (kernel = \"rbf\",\n",
    "             gamma = \"auto\",\n",
    "             cache_size = 5000,\n",
    "            ).fit(xtrain,ytrain)\n",
    "init_rbf_result = model_init_rbf.predict(xtest)"
   ]
  },
  {
   "cell_type": "code",
   "execution_count": 40,
   "id": "43ee499f-0f28-424d-80bf-d372d18ea010",
   "metadata": {},
   "outputs": [
    {
     "data": {
      "text/plain": [
       "array([[ 2656,  3158],\n",
       "       [  695, 19085]], dtype=int64)"
      ]
     },
     "execution_count": 40,
     "metadata": {},
     "output_type": "execute_result"
    }
   ],
   "source": [
    "#混淆矩阵\n",
    "confusion_matrix_init_rbf = CM(ytest,init_rbf_result,labels = (1,0))\n",
    "confusion_matrix_init_rbf"
   ]
  },
  {
   "cell_type": "code",
   "execution_count": 41,
   "id": "bc85509e-67cc-4781-9751-7c82064cebc7",
   "metadata": {},
   "outputs": [
    {
     "data": {
      "text/plain": [
       "0.9648634984833164"
      ]
     },
     "execution_count": 41,
     "metadata": {},
     "output_type": "execute_result"
    }
   ],
   "source": [
    "#特异度\n",
    "specificity_init_rbd = confusion_matrix_init_rbf[1,1]/confusion_matrix_init_rbf[1,:].sum()\n",
    "specificity_init_rbd"
   ]
  },
  {
   "cell_type": "code",
   "execution_count": 50,
   "id": "b2d5f8e1-0607-4cea-88a2-7eb01b681ce3",
   "metadata": {},
   "outputs": [
    {
     "name": "stdout",
     "output_type": "stream",
     "text": [
      "Class weight: 1:1.005000,  Kernel: rbf,  Accuracy: 0.849496, Recall: 0.458376, Auc area: 0.855175\n",
      "19:56\n",
      "Class weight: 1:1.010000,  Kernel: rbf,  Accuracy: 0.849730, Recall: 0.460440, Auc area: 0.855415\n",
      "18:20\n",
      "Class weight: 1:1.015000,  Kernel: rbf,  Accuracy: 0.849691, Recall: 0.461300, Auc area: 0.855640\n",
      "18:00\n",
      "Class weight: 1:1.020000,  Kernel: rbf,  Accuracy: 0.849809, Recall: 0.462504, Auc area: 0.855880\n",
      "18:28\n",
      "Class weight: 1:1.025000,  Kernel: rbf,  Accuracy: 0.849848, Recall: 0.464224, Auc area: 0.856076\n",
      "20:13\n",
      "Class weight: 1:1.030000,  Kernel: rbf,  Accuracy: 0.849965, Recall: 0.465600, Auc area: 0.856255\n",
      "18:26\n",
      "Class weight: 1:1.035000,  Kernel: rbf,  Accuracy: 0.850121, Recall: 0.467320, Auc area: 0.856436\n",
      "18:29\n",
      "Class weight: 1:1.040000,  Kernel: rbf,  Accuracy: 0.850121, Recall: 0.468352, Auc area: 0.856623\n",
      "18:35\n",
      "Class weight: 1:1.045000,  Kernel: rbf,  Accuracy: 0.850160, Recall: 0.469556, Auc area: 0.856848\n",
      "18:36\n",
      "Class weight: 1:1.050000,  Kernel: rbf,  Accuracy: 0.849926, Recall: 0.470072, Auc area: 0.857114\n",
      "18:41\n",
      "Class weight: 1:1.055000,  Kernel: rbf,  Accuracy: 0.850004, Recall: 0.471620, Auc area: 0.857420\n",
      "18:50\n",
      "Class weight: 1:1.060000,  Kernel: rbf,  Accuracy: 0.849965, Recall: 0.472480, Auc area: 0.857735\n",
      "18:52\n"
     ]
    }
   ],
   "source": [
    "#特异度已经很好\n",
    "#希望模型判断更多的少数类以提高accuracy\n",
    "#调参: class_weight 使class_weight偏移很小的数值\n",
    "cw_range = np.linspace(0.005,0.06,12)\n",
    "for i in cw_range:\n",
    "    times = time()\n",
    "    model = SVC(kernel = \"rbf\",\n",
    "                gamma = \"auto\",\n",
    "                cache_size = 5000,\n",
    "                class_weight = {1:1+i}\n",
    "               ).fit(xtrain,ytrain)\n",
    "    result = model.predict(xtest)\n",
    "    score = model.score(xtest, ytest)\n",
    "    auc = roc_auc_score(ytest, model.decision_function(xtest))\n",
    "    recall = recall_score(ytest, result)\n",
    "    print(\"Class weight: 1:%f,  Kernel: rbf,  Accuracy: %f, Recall: %f, Auc area: %f\" % (1+i, score, recall, auc))\n",
    "    print(datetime.datetime.fromtimestamp(time() - times).strftime(\"%M:%S\"))"
   ]
  },
  {
   "cell_type": "code",
   "execution_count": 63,
   "id": "89d1fed5-1160-42c5-ae2e-b12b742659ac",
   "metadata": {},
   "outputs": [
    {
     "name": "stdout",
     "output_type": "stream",
     "text": [
      "Class weight: 1:1.042500,  Kernel: rbf,  Accuracy: 0.850043, Recall: 0.468868, Auc area: 0.856729\n",
      "19:18\n",
      "Class weight: 1:1.043750,  Kernel: rbf,  Accuracy: 0.850160, Recall: 0.469384, Auc area: 0.856796\n",
      "19:23\n",
      "Class weight: 1:1.045000,  Kernel: rbf,  Accuracy: 0.850160, Recall: 0.469556, Auc area: 0.856848\n",
      "18:51\n",
      "Class weight: 1:1.046250,  Kernel: rbf,  Accuracy: 0.850160, Recall: 0.469900, Auc area: 0.856905\n",
      "18:45\n",
      "Class weight: 1:1.047500,  Kernel: rbf,  Accuracy: 0.850121, Recall: 0.469900, Auc area: 0.856983\n",
      "19:00\n",
      "Class weight: 1:1.048750,  Kernel: rbf,  Accuracy: 0.850043, Recall: 0.469900, Auc area: 0.857035\n",
      "19:33\n",
      "Class weight: 1:1.050000,  Kernel: rbf,  Accuracy: 0.849926, Recall: 0.470072, Auc area: 0.857114\n",
      "19:21\n"
     ]
    }
   ],
   "source": [
    "#细化学习曲线\n",
    "new_range = np.linspace(0.0425,0.05,7)\n",
    "for i in new_range:\n",
    "    times = time()\n",
    "    model = SVC(kernel = \"rbf\",\n",
    "                gamma = \"auto\",\n",
    "                cache_size = 5000,\n",
    "                class_weight = {1:1+i}\n",
    "               ).fit(xtrain,ytrain)\n",
    "    result = model.predict(xtest)\n",
    "    score = model.score(xtest, ytest)\n",
    "    auc = roc_auc_score(ytest, model.decision_function(xtest))\n",
    "    recall = recall_score(ytest, result)\n",
    "    print(\"Class weight: 1:%f,  Kernel: rbf,  Accuracy: %f, Recall: %f, Auc area: %f\" % (1+i, score, recall, auc))\n",
    "    print(datetime.datetime.fromtimestamp(time() - times).strftime(\"%M:%S\"))"
   ]
  },
  {
   "cell_type": "code",
   "execution_count": 68,
   "id": "a8e1ff7a-8038-430f-9c32-e6415953de3a",
   "metadata": {},
   "outputs": [
    {
     "name": "stdout",
     "output_type": "stream",
     "text": [
      "Gamma: 0.00000000, Accuracy: 0.77283738, Recall: 0.00000000, Auc area: 0.56257782\n",
      "Gamma: 0.00000000, Accuracy: 0.77283738, Recall: 0.00000000, Auc area: 0.83279705\n",
      "Gamma: 0.00000000, Accuracy: 0.77283738, Recall: 0.00000000, Auc area: 0.85166827\n",
      "Gamma: 0.00000002, Accuracy: 0.77283738, Recall: 0.00000000, Auc area: 0.85554390\n",
      "Gamma: 0.00000014, Accuracy: 0.77283738, Recall: 0.00000000, Auc area: 0.85582038\n",
      "Gamma: 0.00000085, Accuracy: 0.77283738, Recall: 0.00000000, Auc area: 0.85604300\n",
      "Gamma: 0.00000518, Accuracy: 0.77455654, Recall: 0.00911593, Auc area: 0.85622367\n",
      "Gamma: 0.00003162, Accuracy: 0.83124951, Recall: 0.34038528, Auc area: 0.85995611\n",
      "Gamma: 0.00019307, Accuracy: 0.84101743, Recall: 0.44719642, Auc area: 0.86446315\n",
      "Gamma: 0.00117877, Accuracy: 0.84449480, Recall: 0.46198830, Auc area: 0.86469176\n",
      "Gamma: 0.00719686, Accuracy: 0.84805032, Recall: 0.46026832, Auc area: 0.85883876\n",
      "Gamma: 0.04393971, Accuracy: 0.85660702, Recall: 0.50808394, Auc area: 0.85960193\n",
      "Gamma: 0.26826958, Accuracy: 0.85269985, Recall: 0.49071207, Auc area: 0.86744259\n",
      "Gamma: 1.63789371, Accuracy: 0.77314996, Recall: 0.00189198, Auc area: 0.77328985\n",
      "Gamma: 10.00000000, Accuracy: 0.77283738, Recall: 0.00000000, Auc area: 0.59539787\n",
      "Best gamma: 0.04393971, Accuracy: 0.85660702, Recall: 0.50808394, Auc area: 0.85960193\n"
     ]
    },
    {
     "ename": "NameError",
     "evalue": "name 'plt' is not defined",
     "output_type": "error",
     "traceback": [
      "\u001b[1;31m---------------------------------------------------------------------------\u001b[0m",
      "\u001b[1;31mNameError\u001b[0m                                 Traceback (most recent call last)",
      "Cell \u001b[1;32mIn[68], line 22\u001b[0m\n\u001b[0;32m     18\u001b[0m     \u001b[38;5;28mprint\u001b[39m(\u001b[38;5;124m\"\u001b[39m\u001b[38;5;124mGamma: \u001b[39m\u001b[38;5;132;01m%.8f\u001b[39;00m\u001b[38;5;124m, Accuracy: \u001b[39m\u001b[38;5;132;01m%.8f\u001b[39;00m\u001b[38;5;124m, Recall: \u001b[39m\u001b[38;5;132;01m%.8f\u001b[39;00m\u001b[38;5;124m, Auc area: \u001b[39m\u001b[38;5;132;01m%.8f\u001b[39;00m\u001b[38;5;124m\"\u001b[39m \u001b[38;5;241m%\u001b[39m (i, score, recall, auc))\n\u001b[0;32m     21\u001b[0m \u001b[38;5;28mprint\u001b[39m(\u001b[38;5;124m\"\u001b[39m\u001b[38;5;124mBest gamma: \u001b[39m\u001b[38;5;132;01m%.8f\u001b[39;00m\u001b[38;5;124m, Accuracy: \u001b[39m\u001b[38;5;132;01m%.8f\u001b[39;00m\u001b[38;5;124m, Recall: \u001b[39m\u001b[38;5;132;01m%.8f\u001b[39;00m\u001b[38;5;124m, Auc area: \u001b[39m\u001b[38;5;132;01m%.8f\u001b[39;00m\u001b[38;5;124m\"\u001b[39m \u001b[38;5;241m%\u001b[39m (gamma_range[np\u001b[38;5;241m.\u001b[39margmax(scores)], \u001b[38;5;28mmax\u001b[39m(scores), recalls[np\u001b[38;5;241m.\u001b[39margmax(scores)], aucs[np\u001b[38;5;241m.\u001b[39margmax(scores)]))\n\u001b[1;32m---> 22\u001b[0m \u001b[43mplt\u001b[49m\u001b[38;5;241m.\u001b[39mplot(gamma_range,scores)\n\u001b[0;32m     23\u001b[0m plt\u001b[38;5;241m.\u001b[39mxscale(\u001b[38;5;124m'\u001b[39m\u001b[38;5;124mlog\u001b[39m\u001b[38;5;124m'\u001b[39m)\n\u001b[0;32m     24\u001b[0m plt\u001b[38;5;241m.\u001b[39mxlabel(\u001b[38;5;124m'\u001b[39m\u001b[38;5;124mGamma\u001b[39m\u001b[38;5;124m'\u001b[39m)\n",
      "\u001b[1;31mNameError\u001b[0m: name 'plt' is not defined"
     ]
    }
   ],
   "source": [
    "scores = []\n",
    "recalls = []\n",
    "aucs = []\n",
    "gamma_range = np.logspace(-10,1,15)\n",
    "for i in gamma_range:\n",
    "    model = SVC(kernel = \"rbf\",\n",
    "                gamma = i,\n",
    "                cache_size = 8000,\n",
    "                class_weight = {1:1.04625}\n",
    "               ).fit(xtrain,ytrain)\n",
    "    y_predict = model.predict(xtest)\n",
    "    score = model.score(xtest,ytest)\n",
    "    recall = recall_score(ytest, y_predict)\n",
    "    auc = roc_auc_score(ytest, model.decision_function(xtest))\n",
    "    scores.append(score)\n",
    "    recalls.append(recall)\n",
    "    aucs.append(auc)\n",
    "    print(\"Gamma: %.8f, Accuracy: %.8f, Recall: %.8f, Auc area: %.8f\" % (i, score, recall, auc))\n",
    "    \n",
    "\n",
    "print(\"Best gamma: %.8f, Accuracy: %.8f, Recall: %.8f, Auc area: %.8f\" % (gamma_range[np.argmax(scores)], max(scores), recalls[np.argmax(scores)], aucs[np.argmax(scores)]))\n",
    "plt.plot(gamma_range,scores)\n",
    "plt.xscale('log')\n",
    "plt.xlabel('Gamma')\n",
    "plt.ylabel('Accuracy')\n",
    "plt.show()"
   ]
  },
  {
   "cell_type": "code",
   "execution_count": 69,
   "id": "963eb77d-1d14-4a48-8a2a-e46355bcdb5a",
   "metadata": {},
   "outputs": [
    {
     "name": "stdout",
     "output_type": "stream",
     "text": [
      "Gamma: 0.01456000, Accuracy: 0.85098070, Recall: 0.47282422, Auc area: 0.85698552\n",
      "Gamma: 0.02192000, Accuracy: 0.85285614, Recall: 0.48366013, Auc area: 0.85753839\n",
      "Gamma: 0.02928000, Accuracy: 0.85414550, Recall: 0.49329205, Auc area: 0.85872784\n",
      "Gamma: 0.03664000, Accuracy: 0.85574744, Recall: 0.50240798, Auc area: 0.85918994\n"
     ]
    }
   ],
   "source": [
    "scores = []\n",
    "recalls = []\n",
    "aucs = []\n",
    "gamma_range = np.linspace(0.01456,0.03664,4)\n",
    "for i in gamma_range:\n",
    "    model = SVC(kernel = \"rbf\",\n",
    "                gamma = i,\n",
    "                cache_size = 8000,\n",
    "                class_weight = {1:1.04625}\n",
    "               ).fit(xtrain,ytrain)\n",
    "    y_predict = model.predict(xtest)\n",
    "    score = model.score(xtewst,ytest)\n",
    "    recall = recall_score(ytest, y_predict)\n",
    "    auc = roc_auc_score(ytest, model.decision_function(xtest))\n",
    "    scores.append(score)\n",
    "    recalls.append(recall)\n",
    "    aucs.append(auc)\n",
    "    print(\"Gamma: %.8f, Accuracy: %.8f, Recall: %.8f, Auc area: %.8f\" % (i, score, recall, auc))"
   ]
  },
  {
   "cell_type": "code",
   "execution_count": 71,
   "id": "708ba84c-7e12-4891-bb88-0513f2669676",
   "metadata": {},
   "outputs": [
    {
     "name": "stdout",
     "output_type": "stream",
     "text": [
      "Gamma: 0.04400000, Accuracy: 0.85668516, Recall: 0.50842793, Auc area: 0.85960777\n",
      "Gamma: 0.10000000, Accuracy: 0.85871689, Recall: 0.53285174, Auc area: 0.86372139\n",
      "Gamma: 0.15600000, Accuracy: 0.85875596, Recall: 0.53543172, Auc area: 0.86594314\n",
      "Gamma: 0.21200000, Accuracy: 0.85660702, Recall: 0.52081183, Auc area: 0.86753281\n"
     ]
    }
   ],
   "source": [
    "scores = []\n",
    "recalls = []\n",
    "aucs = []\n",
    "gamma_range = np.linspace(0.044,0.212,4)\n",
    "for i in gamma_range:\n",
    "    model = SVC(kernel = \"rbf\",\n",
    "                gamma = i,\n",
    "                cache_size = 8000,\n",
    "                class_weight = {1:1.04625}\n",
    "               ).fit(xtrain,ytrain)\n",
    "    y_predict = model.predict(xtest)\n",
    "    score = model.score(xtest,ytest)\n",
    "    recall = recall_score(ytest, y_predict)\n",
    "    auc = roc_auc_score(ytest, model.decision_function(xtest))\n",
    "    scores.append(score)\n",
    "    recalls.append(recall)\n",
    "    aucs.append(auc)\n",
    "    print(\"Gamma: %.8f, Accuracy: %.8f, Recall: %.8f, Auc area: %.8f\" % (i, score, recall, auc))"
   ]
  },
  {
   "cell_type": "code",
   "execution_count": null,
   "id": "458df529-9426-4d2e-a04b-c6cd54392d92",
   "metadata": {},
   "outputs": [
    {
     "name": "stdout",
     "output_type": "stream",
     "text": [
      "Gamma: 0.05000, Accuracy: 0.85696, Recall: 0.51256, Auc area: 0.86019\n",
      "Gamma: 0.06000, Accuracy: 0.85754, Recall: 0.51892, Auc area: 0.86103\n",
      "Gamma: 0.07000, Accuracy: 0.85786, Recall: 0.52288, Auc area: 0.86188\n",
      "Gamma: 0.08000, Accuracy: 0.85825, Recall: 0.52769, Auc area: 0.86261\n",
      "Gamma: 0.09000, Accuracy: 0.85872, Recall: 0.53130, Auc area: 0.86318\n",
      "Gamma: 0.10000, Accuracy: 0.85872, Recall: 0.53285, Auc area: 0.86372\n",
      "Gamma: 0.11000, Accuracy: 0.85872, Recall: 0.53354, Auc area: 0.86416\n",
      "Gamma: 0.12000, Accuracy: 0.85864, Recall: 0.53457, Auc area: 0.86460\n",
      "Gamma: 0.13000, Accuracy: 0.85907, Recall: 0.53612, Auc area: 0.86498\n",
      "Gamma: 0.14000, Accuracy: 0.85911, Recall: 0.53612, Auc area: 0.86536\n",
      "Gamma: 0.15000, Accuracy: 0.85876, Recall: 0.53560, Auc area: 0.86573\n"
     ]
    }
   ],
   "source": [
    "scores = []\n",
    "recalls = []\n",
    "aucs = []\n",
    "gamma_range = np.linspace(0.05,0.2,16)\n",
    "for i in gamma_range:\n",
    "    model = SVC(kernel = \"rbf\",\n",
    "                gamma = i,\n",
    "                cache_size = 8000,\n",
    "                class_weight = {1:1.04625}\n",
    "               ).fit(xtrain,ytrain)\n",
    "    y_predict = model.predict(xtest)\n",
    "    score = model.score(xtest,ytest)\n",
    "    recall = recall_score(ytest, y_predict)\n",
    "    auc = roc_auc_score(ytest, model.decision_function(xtest))\n",
    "    scores.append(score)\n",
    "    recalls.append(recall)\n",
    "    aucs.append(auc)\n",
    "    print(\"Gamma: %.5f, Accuracy: %.5f, Recall: %.5f, Auc area: %.5f\" % (i, score, recall, auc))"
   ]
  },
  {
   "cell_type": "code",
   "execution_count": 34,
   "id": "7e4742be-9d34-4fef-b45a-18bd0dbf1c33",
   "metadata": {},
   "outputs": [
    {
     "name": "stderr",
     "output_type": "stream",
     "text": [
      "A:\\Anaconda\\lib\\site-packages\\sklearn\\utils\\validation.py:1143: DataConversionWarning: A column-vector y was passed when a 1d array was expected. Please change the shape of y to (n_samples, ), for example using ravel().\n",
      "  y = column_or_1d(y, warn=True)\n"
     ]
    },
    {
     "name": "stdout",
     "output_type": "stream",
     "text": [
      "C = 0.01, score = 0.8051\n"
     ]
    },
    {
     "name": "stderr",
     "output_type": "stream",
     "text": [
      "A:\\Anaconda\\lib\\site-packages\\sklearn\\utils\\validation.py:1143: DataConversionWarning: A column-vector y was passed when a 1d array was expected. Please change the shape of y to (n_samples, ), for example using ravel().\n",
      "  y = column_or_1d(y, warn=True)\n"
     ]
    },
    {
     "name": "stdout",
     "output_type": "stream",
     "text": [
      "C = 5.01, score = 0.8466\n"
     ]
    },
    {
     "name": "stderr",
     "output_type": "stream",
     "text": [
      "A:\\Anaconda\\lib\\site-packages\\sklearn\\utils\\validation.py:1143: DataConversionWarning: A column-vector y was passed when a 1d array was expected. Please change the shape of y to (n_samples, ), for example using ravel().\n",
      "  y = column_or_1d(y, warn=True)\n"
     ]
    },
    {
     "name": "stdout",
     "output_type": "stream",
     "text": [
      "C = 10.00, score = 0.8420\n"
     ]
    },
    {
     "name": "stderr",
     "output_type": "stream",
     "text": [
      "A:\\Anaconda\\lib\\site-packages\\sklearn\\utils\\validation.py:1143: DataConversionWarning: A column-vector y was passed when a 1d array was expected. Please change the shape of y to (n_samples, ), for example using ravel().\n",
      "  y = column_or_1d(y, warn=True)\n"
     ]
    },
    {
     "name": "stdout",
     "output_type": "stream",
     "text": [
      "C = 15.00, score = 0.8399\n"
     ]
    },
    {
     "name": "stderr",
     "output_type": "stream",
     "text": [
      "A:\\Anaconda\\lib\\site-packages\\sklearn\\utils\\validation.py:1143: DataConversionWarning: A column-vector y was passed when a 1d array was expected. Please change the shape of y to (n_samples, ), for example using ravel().\n",
      "  y = column_or_1d(y, warn=True)\n"
     ]
    },
    {
     "name": "stdout",
     "output_type": "stream",
     "text": [
      "C = 20.00, score = 0.8388\n",
      "\n",
      "Best score: 0.8466 at C = 5.01\n"
     ]
    }
   ],
   "source": [
    "scores = []\n",
    "C_range = np.linspace(0.01,20,5)\n",
    "for i in C_range:\n",
    "    model = SVC(kernel=\"rbf\",\n",
    "                C = i,\n",
    "                gamma = 0.14,\n",
    "                class_weight = {1: 1.04625},\n",
    "                cache_size = 8000\n",
    "               ).fit(xtrain, ytrain)\n",
    "    score = model.score(xtest, ytest)\n",
    "    scores.append(score)\n",
    "    print(f\"C = {i:.2f}, score = {score:.4f}\")\n",
    "\n",
    "best_score = max(scores)\n",
    "best_C = C_range[scores.index(best_score)]\n",
    "print(f\"\\nBest score: {best_score:.4f} at C = {best_C:.2f}\")"
   ]
  },
  {
   "cell_type": "code",
   "execution_count": 36,
   "id": "794f3201-21cc-4cf8-9478-19cd43432b7b",
   "metadata": {},
   "outputs": [
    {
     "name": "stdout",
     "output_type": "stream",
     "text": [
      "C = 1.0000, score = 0.859108\n",
      "C = 2.5000, score = 0.854927\n",
      "C = 4.0000, score = 0.849379\n",
      "\n",
      "Best score: 0.859108 at C = 1.0000\n"
     ]
    }
   ],
   "source": [
    "scores = []\n",
    "C_range = np.linspace(1,4,3)\n",
    "for i in C_range:\n",
    "    model = SVC(kernel=\"rbf\",\n",
    "                C = i,\n",
    "                gamma = 0.14,\n",
    "                class_weight = {1: 1.04625},\n",
    "                cache_size = 8000\n",
    "               ).fit(xtrain, ytrain.values.ravel())\n",
    "    score = model.score(xtest, ytest.values.ravel())\n",
    "    scores.append(score)\n",
    "    print(f\"C = {i:.4f}, score = {score:.6f}\")\n",
    "\n",
    "best_score = max(scores)\n",
    "best_C = C_range[scores.index(best_score)]\n",
    "print(f\"\\nBest score: {best_score:.6f} at C = {best_C:.4f}\")"
   ]
  },
  {
   "cell_type": "code",
   "execution_count": 37,
   "id": "28c650cf-8d9c-4cef-8b6b-b89b18445184",
   "metadata": {
    "tags": []
   },
   "outputs": [
    {
     "name": "stdout",
     "output_type": "stream",
     "text": [
      "C = 1.3750, score = 0.859029\n",
      "\n",
      "Best score: 0.859029 at C = 1.3750\n"
     ]
    }
   ],
   "source": [
    "scores = []\n",
    "C_range = np.linspace(1.375,1.375,1)\n",
    "for i in C_range:\n",
    "    model = SVC(kernel=\"rbf\",\n",
    "                C = i,\n",
    "                gamma = 0.14,\n",
    "                class_weight = {1: 1.04625},\n",
    "                cache_size = 8000\n",
    "               ).fit(xtrain, ytrain.values.ravel())\n",
    "    score = model.score(xtest, ytest.values.ravel())\n",
    "    scores.append(score)\n",
    "    print(f\"C = {i:.4f}, score = {score:.6f}\")\n",
    "\n",
    "best_score = max(scores)\n",
    "best_C = C_range[scores.index(best_score)]\n",
    "print(f\"\\nBest score: {best_score:.6f} at C = {best_C:.4f}\")"
   ]
  },
  {
   "cell_type": "code",
   "execution_count": 36,
   "id": "5148e974-190b-4f74-87d1-758e64da83a2",
   "metadata": {},
   "outputs": [
    {
     "name": "stdout",
     "output_type": "stream",
     "text": [
      "C = 0.3000, score = 0.851684\n",
      "C = 0.6000, score = 0.855513\n",
      "\n",
      "Best score: 0.855513 at C = 0.6000\n"
     ]
    }
   ],
   "source": [
    "scores = []\n",
    "C_range = np.linspace(0.3,0.6,2)\n",
    "for i in C_range:\n",
    "    model = SVC(kernel=\"rbf\",\n",
    "                C = i,\n",
    "                gamma = 0.14,\n",
    "                class_weight = {1: 1.04625},\n",
    "                cache_size = 8000\n",
    "               ).fit(xtrain, ytrain)\n",
    "    score = model.score(xtest, ytest)\n",
    "    scores.append(score)\n",
    "    print(f\"C = {i:.4f}, score = {score:.6f}\")\n",
    "\n",
    "best_score = max(scores)\n",
    "best_C = C_range[scores.index(best_score)]\n",
    "print(f\"\\nBest score: {best_score:.6f} at C = {best_C:.4f}\")"
   ]
  },
  {
   "cell_type": "code",
   "execution_count": 37,
   "id": "4abd0061-9583-42a9-95ae-f8d815a9b66e",
   "metadata": {},
   "outputs": [
    {
     "name": "stdout",
     "output_type": "stream",
     "text": [
      "C = 0.8000, score = 0.858522\n",
      "C = 0.9000, score = 0.858951\n",
      "C = 1.0000, score = 0.859108\n",
      "C = 1.1000, score = 0.858639\n",
      "C = 1.2000, score = 0.859108\n",
      "C = 1.3000, score = 0.859069\n",
      "\n",
      "Best score: 0.859108 at C = 1.0000\n"
     ]
    }
   ],
   "source": [
    "scores = []\n",
    "C_range = np.linspace(0.8,1.3,6)\n",
    "for i in C_range:\n",
    "    model = SVC(kernel=\"rbf\",\n",
    "                C = i,\n",
    "                gamma = 0.14,\n",
    "                class_weight = {1: 1.04625},\n",
    "                cache_size = 8000\n",
    "               ).fit(xtrain, ytrain)\n",
    "    score = model.score(xtest, ytest)\n",
    "    scores.append(score)\n",
    "    print(f\"C = {i:.4f}, score = {score:.6f}\")\n",
    "\n",
    "best_score = max(scores)\n",
    "best_C = C_range[scores.index(best_score)]\n",
    "print(f\"\\nBest score: {best_score:.6f} at C = {best_C:.4f}\")"
   ]
  },
  {
   "cell_type": "code",
   "execution_count": 36,
   "id": "e9a76f5b-6642-4928-9f00-cdf0518df80a",
   "metadata": {},
   "outputs": [
    {
     "name": "stderr",
     "output_type": "stream",
     "text": [
      "A:\\Anaconda\\lib\\site-packages\\sklearn\\utils\\validation.py:1143: DataConversionWarning: A column-vector y was passed when a 1d array was expected. Please change the shape of y to (n_samples, ), for example using ravel().\n",
      "  y = column_or_1d(y, warn=True)\n"
     ]
    },
    {
     "name": "stdout",
     "output_type": "stream",
     "text": [
      "Kernel: rbf Accuracy: 0.8591076, Recall: 0.5443756, Auc area: 0.8663517\n",
      "53:37\n"
     ]
    }
   ],
   "source": [
    "####调参完成####\n",
    "#最终模型\n",
    "times = time()\n",
    "model = SVC(kernel = \"rbf\",\n",
    "            C = 1.2,\n",
    "            class_weight = {1: 1.04625},\n",
    "            gamma = 0.14,\n",
    "            cache_size = 8000\n",
    "           ).fit(xtrain,ytrain)\n",
    "result = model.predict(xtest)\n",
    "score = model.score(xtest,ytest)\n",
    "recall = recall_score(ytest,result)\n",
    "auc = roc_auc_score(ytest,model.decision_function(xtest))\n",
    "print(\"Kernel: rbf Accuracy: %.7f, Recall: %.7f, Auc area: %.7f\" % (score, recall, auc))\n",
    "print(datetime.datetime.fromtimestamp(time() - times).strftime(\"%M:%S\"))"
   ]
  },
  {
   "cell_type": "code",
   "execution_count": 37,
   "id": "4a10d40c-1b6e-4d84-a1ca-ec4b81289d27",
   "metadata": {},
   "outputs": [
    {
     "data": {
      "image/png": "[encoded data removed]",
      "text/plain": [
       "<Figure size 640x480 with 1 Axes>"
      ]
     },
     "metadata": {},
     "output_type": "display_data"
    }
   ],
   "source": [
    "##使用auc对模型进行改进\n",
    "from sklearn.metrics import roc_curve as ROC\n",
    "import matplotlib.pyplot as plt\n",
    "\n",
    "FPR, Recall, thresholds = ROC(ytest, model.decision_function(xtest), pos_label=1)\n",
    "\n",
    "plt.figure()\n",
    "plt.plot(FPR, Recall, color=\"red\", label=\"ROC curve (area = %0.4f)\" % auc)\n",
    "plt.plot([0, 1], [0, 1], color='k', linestyle=\"--\")\n",
    "plt.xlim([-0.05, 1.05])\n",
    "plt.ylim([-0.05, 1.05])\n",
    "plt.xlabel(\"False Positive Rate\")\n",
    "plt.ylabel(\"Recall\")\n",
    "plt.title(\"Receiver Operating Characteristic (ROC) Curve\")\n",
    "plt.grid()\n",
    "plt.gca().set_aspect('equal')\n",
    "plt.legend(loc=0)\n",
    "plt.show()"
   ]
  },
  {
   "cell_type": "code",
   "execution_count": 39,
   "id": "1a791446-df7f-4b8f-b283-45f37e028057",
   "metadata": {},
   "outputs": [
    {
     "data": {
      "text/plain": [
       "3022"
      ]
     },
     "execution_count": 39,
     "metadata": {},
     "output_type": "execute_result"
    }
   ],
   "source": [
    "###找最大的点的索引\n",
    "maxindex = (Recall - FPR).tolist().index(max(Recall - FPR))\n",
    "maxindex"
   ]
  },
  {
   "cell_type": "code",
   "execution_count": 40,
   "id": "1f8d5b9c-9682-446e-ad1e-e203d4b0b01f",
   "metadata": {},
   "outputs": [
    {
     "data": {
      "text/plain": [
       "-0.7037402875347925"
      ]
     },
     "execution_count": 40,
     "metadata": {},
     "output_type": "execute_result"
    }
   ],
   "source": [
    "thresholds[maxindex]"
   ]
  },
  {
   "cell_type": "code",
   "execution_count": 42,
   "id": "81177ce9-55a4-495a-8e89-927063fad596",
   "metadata": {},
   "outputs": [
    {
     "name": "stderr",
     "output_type": "stream",
     "text": [
      "A:\\Anaconda\\lib\\site-packages\\sklearn\\utils\\validation.py:1143: DataConversionWarning: A column-vector y was passed when a 1d array was expected. Please change the shape of y to (n_samples, ), for example using ravel().\n",
      "  y = column_or_1d(y, warn=True)\n"
     ]
    },
    {
     "name": "stdout",
     "output_type": "stream",
     "text": [
      "Testing accuracy: 0.812417, Recall: 0.780358\n",
      "48:31\n"
     ]
    }
   ],
   "source": [
    "from sklearn.metrics import accuracy_score\n",
    "times = time()\n",
    "model = SVC(kernel = \"rbf\",\n",
    "            C = 1.2,\n",
    "            class_weight = {1: 1.04625},\n",
    "            gamma = 0.14,\n",
    "            cache_size = 8000\n",
    "           ).fit(xtrain,ytrain)\n",
    "prob = pd.DataFrame(model.decision_function(xtest)) #置信度\n",
    "#对于置信度里的所有值,大于阈值为1,小于阈值为0\n",
    "prob.loc[prob.iloc[:,0] >= thresholds[maxindex], \"y_pred\"] = 1\n",
    "prob.loc[prob.iloc[:,0] < thresholds[maxindex], \"y_pred\"] = 0\n",
    "prob.loc[:,\"y_pred\"].isnull().sum()\n",
    "\n",
    "score = accuracy_score(ytest,prob.loc[:,\"y_pred\"].values)\n",
    "recall = recall_score(ytest,prob.loc[:,\"y_pred\"])\n",
    "\n",
    "print(\"Testing accuracy: %f, Recall: %f\" % (score,recall))\n",
    "print(datetime.datetime.fromtimestamp(time() - times).strftime(\"%M:%S\"))"
   ]
  },
  {
   "cell_type": "code",
   "execution_count": null,
   "id": "6a641f8b-85c3-41d2-94ff-7d9b940fbb68",
   "metadata": {},
   "outputs": [],
   "source": [
    "##最佳阈值下,recall增高但是accuracy也降低了"
   ]
  }
 ],
 "metadata": {
  "kernelspec": {
   "display_name": "Python 3 (ipykernel)",
   "language": "python",
   "name": "python3"
  },
  "language_info": {
   "codemirror_mode": {
    "name": "ipython",
    "version": 3
   },
   "file_extension": ".py",
   "mimetype": "text/x-python",
   "name": "python",
   "nbconvert_exporter": "python",
   "pygments_lexer": "ipython3",
   "version": "3.10.9"
  }
 },
 "nbformat": 4,
 "nbformat_minor": 5
}
